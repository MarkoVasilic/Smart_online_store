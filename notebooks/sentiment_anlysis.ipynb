{
 "cells": [
  {
   "cell_type": "code",
   "execution_count": 5,
   "metadata": {},
   "outputs": [],
   "source": [
    "import pandas as pd\n",
    "import numpy as np\n",
    "import nltk\n",
    "from tqdm import tqdm"
   ]
  },
  {
   "cell_type": "code",
   "execution_count": 8,
   "metadata": {},
   "outputs": [],
   "source": [
    "df = pd.read_csv(\"..\\data\\cleaned_data.csv\")\n",
    "df = df.sample(frac=1).reset_index(drop=True)\n",
    "new_df = df.iloc[:1000, :]"
   ]
  },
  {
   "cell_type": "markdown",
   "metadata": {},
   "source": [
    "## Vader"
   ]
  },
  {
   "cell_type": "code",
   "execution_count": 3,
   "metadata": {},
   "outputs": [],
   "source": [
    "from nltk.sentiment import SentimentIntensityAnalyzer\n",
    "\n",
    "sia = SentimentIntensityAnalyzer()"
   ]
  },
  {
   "cell_type": "code",
   "execution_count": 4,
   "metadata": {},
   "outputs": [
    {
     "name": "stdout",
     "output_type": "stream",
     "text": [
      "fit well clunki\n"
     ]
    },
    {
     "data": {
      "text/plain": [
       "{'neg': 0.0, 'neu': 0.179, 'pos': 0.821, 'compound': 0.5574}"
      ]
     },
     "execution_count": 4,
     "metadata": {},
     "output_type": "execute_result"
    }
   ],
   "source": [
    "print(new_df['review_body'][0])\n",
    "sia.polarity_scores(new_df['review_body'][0])"
   ]
  },
  {
   "cell_type": "code",
   "execution_count": 5,
   "metadata": {},
   "outputs": [
    {
     "name": "stdout",
     "output_type": "stream",
     "text": [
      "1000\n"
     ]
    },
    {
     "name": "stderr",
     "output_type": "stream",
     "text": [
      "100%|██████████| 1000/1000 [00:00<00:00, 4490.13it/s]\n"
     ]
    },
    {
     "data": {
      "text/plain": [
       "vader_neu    856\n",
       "vader_pos    125\n",
       "vader_neg     19\n",
       "dtype: int64"
      ]
     },
     "execution_count": 5,
     "metadata": {},
     "output_type": "execute_result"
    }
   ],
   "source": [
    "res = []\n",
    "print(len(new_df))\n",
    "for index, row in tqdm(new_df.iterrows(), total=len(new_df)):\n",
    "    text = row['review_body']\n",
    "    temp = sia.polarity_scores(text)\n",
    "    for key, value in temp.items():\n",
    "        if value == max(temp['pos'], temp['neg'], temp['neu']):\n",
    "            res.append(\"vader_\" + key)\n",
    "            break\n",
    "res\n",
    "temp = pd.DataFrame(res)\n",
    "temp.value_counts()"
   ]
  },
  {
   "cell_type": "code",
   "execution_count": 6,
   "metadata": {},
   "outputs": [
    {
     "name": "stderr",
     "output_type": "stream",
     "text": [
      "C:\\Users\\marko.vasilic\\AppData\\Local\\Temp\\ipykernel_916\\4263305915.py:1: SettingWithCopyWarning: \n",
      "A value is trying to be set on a copy of a slice from a DataFrame.\n",
      "Try using .loc[row_indexer,col_indexer] = value instead\n",
      "\n",
      "See the caveats in the documentation: https://pandas.pydata.org/pandas-docs/stable/user_guide/indexing.html#returning-a-view-versus-a-copy\n",
      "  new_df['vader_sentiment'] = res\n"
     ]
    },
    {
     "data": {
      "text/html": [
       "<div>\n",
       "<style scoped>\n",
       "    .dataframe tbody tr th:only-of-type {\n",
       "        vertical-align: middle;\n",
       "    }\n",
       "\n",
       "    .dataframe tbody tr th {\n",
       "        vertical-align: top;\n",
       "    }\n",
       "\n",
       "    .dataframe thead th {\n",
       "        text-align: right;\n",
       "    }\n",
       "</style>\n",
       "<table border=\"1\" class=\"dataframe\">\n",
       "  <thead>\n",
       "    <tr style=\"text-align: right;\">\n",
       "      <th></th>\n",
       "      <th>review_id</th>\n",
       "      <th>product_id</th>\n",
       "      <th>reviewer_id</th>\n",
       "      <th>stars</th>\n",
       "      <th>review_body</th>\n",
       "      <th>review_title</th>\n",
       "      <th>language</th>\n",
       "      <th>product_category</th>\n",
       "      <th>vader_sentiment</th>\n",
       "    </tr>\n",
       "  </thead>\n",
       "  <tbody>\n",
       "    <tr>\n",
       "      <th>0</th>\n",
       "      <td>en_0498956</td>\n",
       "      <td>product_en_0828306</td>\n",
       "      <td>reviewer_en_0523960</td>\n",
       "      <td>1</td>\n",
       "      <td>fit well clunki</td>\n",
       "      <td>one star</td>\n",
       "      <td>en</td>\n",
       "      <td>drugstore</td>\n",
       "      <td>vader_pos</td>\n",
       "    </tr>\n",
       "    <tr>\n",
       "      <th>1</th>\n",
       "      <td>en_0093747</td>\n",
       "      <td>product_en_0552817</td>\n",
       "      <td>reviewer_en_0994139</td>\n",
       "      <td>1</td>\n",
       "      <td>particular pattern keep get larg hole return f...</td>\n",
       "      <td>one differ print great hole</td>\n",
       "      <td>en</td>\n",
       "      <td>apparel</td>\n",
       "      <td>vader_neu</td>\n",
       "    </tr>\n",
       "    <tr>\n",
       "      <th>2</th>\n",
       "      <td>en_0395419</td>\n",
       "      <td>product_en_0647135</td>\n",
       "      <td>reviewer_en_0938679</td>\n",
       "      <td>4</td>\n",
       "      <td>book help learn sexual attitud toward differ r...</td>\n",
       "      <td>book help learn sexual</td>\n",
       "      <td>en</td>\n",
       "      <td>digital_ebook_purchase</td>\n",
       "      <td>vader_neu</td>\n",
       "    </tr>\n",
       "    <tr>\n",
       "      <th>3</th>\n",
       "      <td>en_0076703</td>\n",
       "      <td>product_en_0528027</td>\n",
       "      <td>reviewer_en_0988264</td>\n",
       "      <td>2</td>\n",
       "      <td>much smaller anticip take blame assum would no...</td>\n",
       "      <td>disappoint small</td>\n",
       "      <td>en</td>\n",
       "      <td>furniture</td>\n",
       "      <td>vader_neu</td>\n",
       "    </tr>\n",
       "    <tr>\n",
       "      <th>4</th>\n",
       "      <td>en_0503361</td>\n",
       "      <td>product_en_0395277</td>\n",
       "      <td>reviewer_en_0258043</td>\n",
       "      <td>2</td>\n",
       "      <td>ring part brome month reveal made cheap materi...</td>\n",
       "      <td>cheap</td>\n",
       "      <td>en</td>\n",
       "      <td>beauty</td>\n",
       "      <td>vader_neu</td>\n",
       "    </tr>\n",
       "    <tr>\n",
       "      <th>...</th>\n",
       "      <td>...</td>\n",
       "      <td>...</td>\n",
       "      <td>...</td>\n",
       "      <td>...</td>\n",
       "      <td>...</td>\n",
       "      <td>...</td>\n",
       "      <td>...</td>\n",
       "      <td>...</td>\n",
       "      <td>...</td>\n",
       "    </tr>\n",
       "    <tr>\n",
       "      <th>995</th>\n",
       "      <td>en_0348579</td>\n",
       "      <td>product_en_0470247</td>\n",
       "      <td>reviewer_en_0829023</td>\n",
       "      <td>4</td>\n",
       "      <td>nice book want learn journey got gift</td>\n",
       "      <td>worth learn</td>\n",
       "      <td>en</td>\n",
       "      <td>book</td>\n",
       "      <td>vader_pos</td>\n",
       "    </tr>\n",
       "    <tr>\n",
       "      <th>996</th>\n",
       "      <td>en_0468187</td>\n",
       "      <td>product_en_0431952</td>\n",
       "      <td>reviewer_en_0025350</td>\n",
       "      <td>5</td>\n",
       "      <td>vibrant fuchsia color make sure order two one ...</td>\n",
       "      <td>love color</td>\n",
       "      <td>en</td>\n",
       "      <td>other</td>\n",
       "      <td>vader_neu</td>\n",
       "    </tr>\n",
       "    <tr>\n",
       "      <th>997</th>\n",
       "      <td>en_0065822</td>\n",
       "      <td>product_en_0850981</td>\n",
       "      <td>reviewer_en_0713822</td>\n",
       "      <td>1</td>\n",
       "      <td>order doubl check order like way not call exac...</td>\n",
       "      <td>sent wrong size</td>\n",
       "      <td>en</td>\n",
       "      <td>apparel</td>\n",
       "      <td>vader_neu</td>\n",
       "    </tr>\n",
       "    <tr>\n",
       "      <th>998</th>\n",
       "      <td>en_0771285</td>\n",
       "      <td>product_en_0725143</td>\n",
       "      <td>reviewer_en_0038475</td>\n",
       "      <td>1</td>\n",
       "      <td>thing great smaller list say hold much weight ...</td>\n",
       "      <td>not good</td>\n",
       "      <td>en</td>\n",
       "      <td>home</td>\n",
       "      <td>vader_neu</td>\n",
       "    </tr>\n",
       "    <tr>\n",
       "      <th>999</th>\n",
       "      <td>en_0432607</td>\n",
       "      <td>product_en_0654711</td>\n",
       "      <td>reviewer_en_0374011</td>\n",
       "      <td>5</td>\n",
       "      <td>pond low level alarm save much troubl sever ti...</td>\n",
       "      <td>work consist advertis good design</td>\n",
       "      <td>en</td>\n",
       "      <td>other</td>\n",
       "      <td>vader_neu</td>\n",
       "    </tr>\n",
       "  </tbody>\n",
       "</table>\n",
       "<p>1000 rows × 9 columns</p>\n",
       "</div>"
      ],
      "text/plain": [
       "      review_id          product_id          reviewer_id  stars  \\\n",
       "0    en_0498956  product_en_0828306  reviewer_en_0523960      1   \n",
       "1    en_0093747  product_en_0552817  reviewer_en_0994139      1   \n",
       "2    en_0395419  product_en_0647135  reviewer_en_0938679      4   \n",
       "3    en_0076703  product_en_0528027  reviewer_en_0988264      2   \n",
       "4    en_0503361  product_en_0395277  reviewer_en_0258043      2   \n",
       "..          ...                 ...                  ...    ...   \n",
       "995  en_0348579  product_en_0470247  reviewer_en_0829023      4   \n",
       "996  en_0468187  product_en_0431952  reviewer_en_0025350      5   \n",
       "997  en_0065822  product_en_0850981  reviewer_en_0713822      1   \n",
       "998  en_0771285  product_en_0725143  reviewer_en_0038475      1   \n",
       "999  en_0432607  product_en_0654711  reviewer_en_0374011      5   \n",
       "\n",
       "                                           review_body  \\\n",
       "0                                      fit well clunki   \n",
       "1    particular pattern keep get larg hole return f...   \n",
       "2    book help learn sexual attitud toward differ r...   \n",
       "3    much smaller anticip take blame assum would no...   \n",
       "4    ring part brome month reveal made cheap materi...   \n",
       "..                                                 ...   \n",
       "995              nice book want learn journey got gift   \n",
       "996  vibrant fuchsia color make sure order two one ...   \n",
       "997  order doubl check order like way not call exac...   \n",
       "998  thing great smaller list say hold much weight ...   \n",
       "999  pond low level alarm save much troubl sever ti...   \n",
       "\n",
       "                          review_title language        product_category  \\\n",
       "0                             one star       en               drugstore   \n",
       "1          one differ print great hole       en                 apparel   \n",
       "2               book help learn sexual       en  digital_ebook_purchase   \n",
       "3                     disappoint small       en               furniture   \n",
       "4                                cheap       en                  beauty   \n",
       "..                                 ...      ...                     ...   \n",
       "995                        worth learn       en                    book   \n",
       "996                         love color       en                   other   \n",
       "997                    sent wrong size       en                 apparel   \n",
       "998                           not good       en                    home   \n",
       "999  work consist advertis good design       en                   other   \n",
       "\n",
       "    vader_sentiment  \n",
       "0         vader_pos  \n",
       "1         vader_neu  \n",
       "2         vader_neu  \n",
       "3         vader_neu  \n",
       "4         vader_neu  \n",
       "..              ...  \n",
       "995       vader_pos  \n",
       "996       vader_neu  \n",
       "997       vader_neu  \n",
       "998       vader_neu  \n",
       "999       vader_neu  \n",
       "\n",
       "[1000 rows x 9 columns]"
      ]
     },
     "execution_count": 6,
     "metadata": {},
     "output_type": "execute_result"
    }
   ],
   "source": [
    "new_df['vader_sentiment'] = res\n",
    "new_df"
   ]
  },
  {
   "cell_type": "markdown",
   "metadata": {},
   "source": [
    "## Roberta"
   ]
  },
  {
   "cell_type": "code",
   "execution_count": 1,
   "metadata": {},
   "outputs": [
    {
     "name": "stderr",
     "output_type": "stream",
     "text": [
      "c:\\Users\\marko.vasilic\\AppData\\Local\\Programs\\Python\\Python39\\lib\\site-packages\\tqdm\\auto.py:22: TqdmWarning: IProgress not found. Please update jupyter and ipywidgets. See https://ipywidgets.readthedocs.io/en/stable/user_install.html\n",
      "  from .autonotebook import tqdm as notebook_tqdm\n"
     ]
    }
   ],
   "source": [
    "from transformers import AutoTokenizer\n",
    "from transformers import AutoModelForSequenceClassification\n",
    "from scipy.special import softmax"
   ]
  },
  {
   "cell_type": "code",
   "execution_count": 2,
   "metadata": {},
   "outputs": [],
   "source": [
    "MODEL = f\"cardiffnlp/twitter-roberta-base-sentiment\"\n",
    "tokenizer = AutoTokenizer.from_pretrained(MODEL)\n",
    "model = AutoModelForSequenceClassification.from_pretrained(MODEL)"
   ]
  },
  {
   "cell_type": "code",
   "execution_count": 6,
   "metadata": {},
   "outputs": [],
   "source": [
    "def polarity_scores_roberta(text):\n",
    "    encoded_text = tokenizer(text, return_tensors='pt', padding=True, truncation=True, max_length=512)\n",
    "    output = model(**encoded_text)\n",
    "    scores = output[0][0].detach().numpy()\n",
    "    scores = softmax(scores)\n",
    "    scores_dict = {\n",
    "        'roberta_neg' : scores[0],\n",
    "        'roberta_neu' : scores[1],\n",
    "        'roberta_pos' : scores[2]\n",
    "    }\n",
    "    return scores_dict"
   ]
  },
  {
   "cell_type": "code",
   "execution_count": 10,
   "metadata": {},
   "outputs": [
    {
     "name": "stderr",
     "output_type": "stream",
     "text": [
      "  0%|          | 3/1000 [00:00<01:25, 11.68it/s]"
     ]
    },
    {
     "name": "stdout",
     "output_type": "stream",
     "text": [
      "0\n",
      "0\n",
      "0\n",
      "1\n",
      "1\n",
      "1\n",
      "2\n",
      "2\n",
      "2\n",
      "3\n",
      "3\n",
      "3\n"
     ]
    },
    {
     "name": "stderr",
     "output_type": "stream",
     "text": [
      "  1%|          | 7/1000 [00:00<01:13, 13.45it/s]"
     ]
    },
    {
     "name": "stdout",
     "output_type": "stream",
     "text": [
      "4\n",
      "4\n",
      "4\n",
      "5\n",
      "5\n",
      "5\n",
      "6\n",
      "6\n",
      "6\n",
      "7\n",
      "7\n",
      "7\n"
     ]
    },
    {
     "name": "stderr",
     "output_type": "stream",
     "text": [
      "  1%|          | 11/1000 [00:00<01:05, 15.10it/s]"
     ]
    },
    {
     "name": "stdout",
     "output_type": "stream",
     "text": [
      "8\n",
      "8\n",
      "8\n",
      "9\n",
      "9\n",
      "9\n",
      "10\n",
      "10\n",
      "10\n",
      "11\n",
      "11\n",
      "11\n"
     ]
    },
    {
     "name": "stderr",
     "output_type": "stream",
     "text": [
      "  2%|▏         | 15/1000 [00:01<01:04, 15.20it/s]"
     ]
    },
    {
     "name": "stdout",
     "output_type": "stream",
     "text": [
      "12\n",
      "12\n",
      "12\n",
      "13\n",
      "13\n",
      "13\n",
      "14\n",
      "14\n",
      "14\n",
      "15\n",
      "15\n",
      "15\n"
     ]
    },
    {
     "name": "stderr",
     "output_type": "stream",
     "text": [
      "  2%|▏         | 19/1000 [00:01<01:02, 15.81it/s]"
     ]
    },
    {
     "name": "stdout",
     "output_type": "stream",
     "text": [
      "16\n",
      "16\n",
      "16\n",
      "17\n",
      "17\n",
      "17\n",
      "18\n",
      "18\n",
      "18\n",
      "19\n",
      "19\n",
      "19\n"
     ]
    },
    {
     "name": "stderr",
     "output_type": "stream",
     "text": [
      "  2%|▏         | 23/1000 [00:01<01:20, 12.17it/s]"
     ]
    },
    {
     "name": "stdout",
     "output_type": "stream",
     "text": [
      "20\n",
      "20\n",
      "20\n",
      "21\n",
      "21\n",
      "21\n",
      "22\n",
      "22\n",
      "22\n",
      "23\n",
      "23\n",
      "23\n"
     ]
    },
    {
     "name": "stderr",
     "output_type": "stream",
     "text": [
      "  3%|▎         | 27/1000 [00:02<01:12, 13.47it/s]"
     ]
    },
    {
     "name": "stdout",
     "output_type": "stream",
     "text": [
      "24\n",
      "24\n",
      "24\n",
      "25\n",
      "25\n",
      "25\n",
      "26\n",
      "26\n",
      "26\n",
      "27\n",
      "27\n",
      "27\n"
     ]
    },
    {
     "name": "stderr",
     "output_type": "stream",
     "text": [
      "  3%|▎         | 31/1000 [00:02<01:12, 13.39it/s]"
     ]
    },
    {
     "name": "stdout",
     "output_type": "stream",
     "text": [
      "28\n",
      "28\n",
      "28\n",
      "29\n",
      "29\n",
      "29\n",
      "30\n",
      "30\n",
      "30\n",
      "31\n",
      "31\n",
      "31\n"
     ]
    },
    {
     "name": "stderr",
     "output_type": "stream",
     "text": [
      "  4%|▎         | 35/1000 [00:02<01:16, 12.66it/s]"
     ]
    },
    {
     "name": "stdout",
     "output_type": "stream",
     "text": [
      "32\n",
      "32\n",
      "32\n",
      "33\n",
      "33\n",
      "33\n",
      "34\n",
      "34\n",
      "34\n",
      "35\n",
      "35\n",
      "35\n"
     ]
    },
    {
     "name": "stderr",
     "output_type": "stream",
     "text": [
      "  4%|▍         | 39/1000 [00:02<01:06, 14.47it/s]"
     ]
    },
    {
     "name": "stdout",
     "output_type": "stream",
     "text": [
      "36\n",
      "36\n",
      "36\n",
      "37\n",
      "37\n",
      "37\n",
      "38\n",
      "38\n",
      "38\n",
      "39\n",
      "39\n",
      "39\n"
     ]
    },
    {
     "name": "stderr",
     "output_type": "stream",
     "text": [
      "  4%|▍         | 43/1000 [00:03<00:59, 16.01it/s]"
     ]
    },
    {
     "name": "stdout",
     "output_type": "stream",
     "text": [
      "40\n",
      "40\n",
      "40\n",
      "41\n",
      "41\n",
      "41\n",
      "42\n",
      "42\n",
      "42\n",
      "43\n",
      "43\n",
      "43\n"
     ]
    },
    {
     "name": "stderr",
     "output_type": "stream",
     "text": [
      "  5%|▍         | 47/1000 [00:03<00:59, 15.94it/s]"
     ]
    },
    {
     "name": "stdout",
     "output_type": "stream",
     "text": [
      "44\n",
      "44\n",
      "44\n",
      "45\n",
      "45\n",
      "45\n",
      "46\n",
      "46\n",
      "46\n",
      "47\n",
      "47\n",
      "47\n"
     ]
    },
    {
     "name": "stderr",
     "output_type": "stream",
     "text": [
      "  5%|▌         | 51/1000 [00:03<00:59, 16.05it/s]"
     ]
    },
    {
     "name": "stdout",
     "output_type": "stream",
     "text": [
      "48\n",
      "48\n",
      "48\n",
      "49\n",
      "49\n",
      "49\n",
      "50\n",
      "50\n",
      "50\n",
      "51\n",
      "51\n",
      "51\n"
     ]
    },
    {
     "name": "stderr",
     "output_type": "stream",
     "text": [
      "  6%|▌         | 55/1000 [00:03<01:08, 13.76it/s]"
     ]
    },
    {
     "name": "stdout",
     "output_type": "stream",
     "text": [
      "52\n",
      "52\n",
      "52\n",
      "53\n",
      "53\n",
      "53\n",
      "54\n",
      "54\n",
      "54\n"
     ]
    },
    {
     "name": "stderr",
     "output_type": "stream",
     "text": [
      "  6%|▌         | 59/1000 [00:04<01:01, 15.39it/s]"
     ]
    },
    {
     "name": "stdout",
     "output_type": "stream",
     "text": [
      "55\n",
      "55\n",
      "55\n",
      "56\n",
      "56\n",
      "56\n",
      "57\n",
      "57\n",
      "57\n",
      "58\n",
      "58\n",
      "58\n"
     ]
    },
    {
     "name": "stderr",
     "output_type": "stream",
     "text": [
      "  6%|▋         | 63/1000 [00:04<00:59, 15.69it/s]"
     ]
    },
    {
     "name": "stdout",
     "output_type": "stream",
     "text": [
      "59\n",
      "59\n",
      "59\n",
      "60\n",
      "60\n",
      "60\n",
      "61\n",
      "61\n",
      "61\n",
      "62\n",
      "62\n",
      "62\n"
     ]
    },
    {
     "name": "stderr",
     "output_type": "stream",
     "text": [
      "  7%|▋         | 67/1000 [00:04<00:58, 16.04it/s]"
     ]
    },
    {
     "name": "stdout",
     "output_type": "stream",
     "text": [
      "63\n",
      "63\n",
      "63\n",
      "64\n",
      "64\n",
      "64\n",
      "65\n",
      "65\n",
      "65\n",
      "66\n",
      "66\n",
      "66\n"
     ]
    },
    {
     "name": "stderr",
     "output_type": "stream",
     "text": [
      "  7%|▋         | 71/1000 [00:04<00:56, 16.47it/s]"
     ]
    },
    {
     "name": "stdout",
     "output_type": "stream",
     "text": [
      "67\n",
      "67\n",
      "67\n",
      "68\n",
      "68\n",
      "68\n",
      "69\n",
      "69\n",
      "69\n",
      "70\n",
      "70\n",
      "70\n"
     ]
    },
    {
     "name": "stderr",
     "output_type": "stream",
     "text": [
      "  7%|▋         | 73/1000 [00:05<00:59, 15.68it/s]"
     ]
    },
    {
     "name": "stdout",
     "output_type": "stream",
     "text": [
      "71\n",
      "71\n",
      "71\n",
      "72\n",
      "72\n",
      "72\n",
      "73\n",
      "73\n",
      "73\n"
     ]
    },
    {
     "name": "stderr",
     "output_type": "stream",
     "text": [
      "  8%|▊         | 77/1000 [00:05<01:06, 13.82it/s]"
     ]
    },
    {
     "name": "stdout",
     "output_type": "stream",
     "text": [
      "74\n",
      "74\n",
      "74\n",
      "75\n",
      "75\n",
      "75\n",
      "76\n",
      "76\n",
      "76\n",
      "77\n",
      "77\n",
      "77\n"
     ]
    },
    {
     "name": "stderr",
     "output_type": "stream",
     "text": [
      "  8%|▊         | 81/1000 [00:05<01:02, 14.77it/s]"
     ]
    },
    {
     "name": "stdout",
     "output_type": "stream",
     "text": [
      "78\n",
      "78\n",
      "78\n",
      "79\n",
      "79\n",
      "79\n",
      "80\n",
      "80\n",
      "80\n",
      "81\n",
      "81\n",
      "81\n"
     ]
    },
    {
     "name": "stderr",
     "output_type": "stream",
     "text": [
      "  8%|▊         | 85/1000 [00:05<00:56, 16.33it/s]"
     ]
    },
    {
     "name": "stdout",
     "output_type": "stream",
     "text": [
      "82\n",
      "82\n",
      "82\n",
      "83\n",
      "83\n",
      "83\n",
      "84\n",
      "84\n",
      "84\n",
      "85\n",
      "85\n",
      "85\n"
     ]
    },
    {
     "name": "stderr",
     "output_type": "stream",
     "text": [
      "  9%|▉         | 89/1000 [00:06<00:54, 16.69it/s]"
     ]
    },
    {
     "name": "stdout",
     "output_type": "stream",
     "text": [
      "86\n",
      "86\n",
      "86\n",
      "87\n",
      "87\n",
      "87\n",
      "88\n",
      "88\n",
      "88\n"
     ]
    },
    {
     "name": "stderr",
     "output_type": "stream",
     "text": [
      "  9%|▉         | 91/1000 [00:06<01:10, 12.90it/s]"
     ]
    },
    {
     "name": "stdout",
     "output_type": "stream",
     "text": [
      "89\n",
      "89\n",
      "89\n",
      "90\n",
      "90\n",
      "90\n",
      "91\n",
      "91\n",
      "91\n"
     ]
    },
    {
     "name": "stderr",
     "output_type": "stream",
     "text": [
      "  9%|▉         | 93/1000 [00:06<01:05, 13.91it/s]"
     ]
    },
    {
     "name": "stdout",
     "output_type": "stream",
     "text": [
      "92\n",
      "92\n",
      "92\n",
      "93\n",
      "93\n",
      "93\n",
      "94\n",
      "94\n",
      "94\n"
     ]
    },
    {
     "name": "stderr",
     "output_type": "stream",
     "text": [
      " 10%|▉         | 97/1000 [00:06<01:07, 13.41it/s]"
     ]
    },
    {
     "name": "stdout",
     "output_type": "stream",
     "text": [
      "95\n",
      "95\n",
      "95\n",
      "96\n",
      "96\n",
      "96\n",
      "97\n",
      "97\n",
      "97\n"
     ]
    },
    {
     "name": "stderr",
     "output_type": "stream",
     "text": [
      " 10%|█         | 101/1000 [00:07<01:10, 12.80it/s]"
     ]
    },
    {
     "name": "stdout",
     "output_type": "stream",
     "text": [
      "98\n",
      "98\n",
      "98\n",
      "99\n",
      "99\n",
      "99\n",
      "100\n",
      "100\n",
      "100\n",
      "101\n",
      "101\n",
      "101\n"
     ]
    },
    {
     "name": "stderr",
     "output_type": "stream",
     "text": [
      " 10%|█         | 105/1000 [00:07<01:02, 14.43it/s]"
     ]
    },
    {
     "name": "stdout",
     "output_type": "stream",
     "text": [
      "102\n",
      "102\n",
      "102\n",
      "103\n",
      "103\n",
      "103\n",
      "104\n",
      "104\n",
      "104\n",
      "105\n",
      "105\n",
      "105\n"
     ]
    },
    {
     "name": "stderr",
     "output_type": "stream",
     "text": [
      " 11%|█         | 106/1000 [00:07<01:02, 14.30it/s]\n"
     ]
    },
    {
     "ename": "KeyboardInterrupt",
     "evalue": "",
     "output_type": "error",
     "traceback": [
      "\u001b[1;31m---------------------------------------------------------------------------\u001b[0m",
      "\u001b[1;31mKeyboardInterrupt\u001b[0m                         Traceback (most recent call last)",
      "\u001b[1;32mc:\\Users\\marko.vasilic\\Desktop\\Data Science Internship Project\\smart-online-store\\notebooks\\sentiment_anlysis.ipynb Cell 12\u001b[0m in \u001b[0;36m<cell line: 3>\u001b[1;34m()\u001b[0m\n\u001b[0;32m      <a href='vscode-notebook-cell:/c%3A/Users/marko.vasilic/Desktop/Data%20Science%20Internship%20Project/smart-online-store/notebooks/sentiment_anlysis.ipynb#X14sZmlsZQ%3D%3D?line=1'>2</a>\u001b[0m i \u001b[39m=\u001b[39m \u001b[39m0\u001b[39m\n\u001b[0;32m      <a href='vscode-notebook-cell:/c%3A/Users/marko.vasilic/Desktop/Data%20Science%20Internship%20Project/smart-online-store/notebooks/sentiment_anlysis.ipynb#X14sZmlsZQ%3D%3D?line=2'>3</a>\u001b[0m \u001b[39mfor\u001b[39;00m index, row \u001b[39min\u001b[39;00m tqdm(new_df\u001b[39m.\u001b[39miterrows(), total\u001b[39m=\u001b[39m\u001b[39mlen\u001b[39m(new_df)):\n\u001b[1;32m----> <a href='vscode-notebook-cell:/c%3A/Users/marko.vasilic/Desktop/Data%20Science%20Internship%20Project/smart-online-store/notebooks/sentiment_anlysis.ipynb#X14sZmlsZQ%3D%3D?line=3'>4</a>\u001b[0m     temp \u001b[39m=\u001b[39m polarity_scores_roberta(row[\u001b[39m'\u001b[39;49m\u001b[39mreview_body\u001b[39;49m\u001b[39m'\u001b[39;49m])\n\u001b[0;32m      <a href='vscode-notebook-cell:/c%3A/Users/marko.vasilic/Desktop/Data%20Science%20Internship%20Project/smart-online-store/notebooks/sentiment_anlysis.ipynb#X14sZmlsZQ%3D%3D?line=4'>5</a>\u001b[0m     \u001b[39mfor\u001b[39;00m key, value \u001b[39min\u001b[39;00m temp\u001b[39m.\u001b[39mitems():\n\u001b[0;32m      <a href='vscode-notebook-cell:/c%3A/Users/marko.vasilic/Desktop/Data%20Science%20Internship%20Project/smart-online-store/notebooks/sentiment_anlysis.ipynb#X14sZmlsZQ%3D%3D?line=5'>6</a>\u001b[0m         \u001b[39mprint\u001b[39m(i)\n",
      "\u001b[1;32mc:\\Users\\marko.vasilic\\Desktop\\Data Science Internship Project\\smart-online-store\\notebooks\\sentiment_anlysis.ipynb Cell 12\u001b[0m in \u001b[0;36mpolarity_scores_roberta\u001b[1;34m(text)\u001b[0m\n\u001b[0;32m      <a href='vscode-notebook-cell:/c%3A/Users/marko.vasilic/Desktop/Data%20Science%20Internship%20Project/smart-online-store/notebooks/sentiment_anlysis.ipynb#X14sZmlsZQ%3D%3D?line=0'>1</a>\u001b[0m \u001b[39mdef\u001b[39;00m \u001b[39mpolarity_scores_roberta\u001b[39m(text):\n\u001b[0;32m      <a href='vscode-notebook-cell:/c%3A/Users/marko.vasilic/Desktop/Data%20Science%20Internship%20Project/smart-online-store/notebooks/sentiment_anlysis.ipynb#X14sZmlsZQ%3D%3D?line=1'>2</a>\u001b[0m     encoded_text \u001b[39m=\u001b[39m tokenizer(text, return_tensors\u001b[39m=\u001b[39m\u001b[39m'\u001b[39m\u001b[39mpt\u001b[39m\u001b[39m'\u001b[39m, padding\u001b[39m=\u001b[39m\u001b[39mTrue\u001b[39;00m, truncation\u001b[39m=\u001b[39m\u001b[39mTrue\u001b[39;00m, max_length\u001b[39m=\u001b[39m\u001b[39m512\u001b[39m)\n\u001b[1;32m----> <a href='vscode-notebook-cell:/c%3A/Users/marko.vasilic/Desktop/Data%20Science%20Internship%20Project/smart-online-store/notebooks/sentiment_anlysis.ipynb#X14sZmlsZQ%3D%3D?line=2'>3</a>\u001b[0m     output \u001b[39m=\u001b[39m model(\u001b[39m*\u001b[39m\u001b[39m*\u001b[39mencoded_text)\n\u001b[0;32m      <a href='vscode-notebook-cell:/c%3A/Users/marko.vasilic/Desktop/Data%20Science%20Internship%20Project/smart-online-store/notebooks/sentiment_anlysis.ipynb#X14sZmlsZQ%3D%3D?line=3'>4</a>\u001b[0m     scores \u001b[39m=\u001b[39m output[\u001b[39m0\u001b[39m][\u001b[39m0\u001b[39m]\u001b[39m.\u001b[39mdetach()\u001b[39m.\u001b[39mnumpy()\n\u001b[0;32m      <a href='vscode-notebook-cell:/c%3A/Users/marko.vasilic/Desktop/Data%20Science%20Internship%20Project/smart-online-store/notebooks/sentiment_anlysis.ipynb#X14sZmlsZQ%3D%3D?line=4'>5</a>\u001b[0m     scores \u001b[39m=\u001b[39m softmax(scores)\n",
      "File \u001b[1;32mc:\\Users\\marko.vasilic\\AppData\\Local\\Programs\\Python\\Python39\\lib\\site-packages\\torch\\nn\\modules\\module.py:1130\u001b[0m, in \u001b[0;36mModule._call_impl\u001b[1;34m(self, *input, **kwargs)\u001b[0m\n\u001b[0;32m   1126\u001b[0m \u001b[39m# If we don't have any hooks, we want to skip the rest of the logic in\u001b[39;00m\n\u001b[0;32m   1127\u001b[0m \u001b[39m# this function, and just call forward.\u001b[39;00m\n\u001b[0;32m   1128\u001b[0m \u001b[39mif\u001b[39;00m \u001b[39mnot\u001b[39;00m (\u001b[39mself\u001b[39m\u001b[39m.\u001b[39m_backward_hooks \u001b[39mor\u001b[39;00m \u001b[39mself\u001b[39m\u001b[39m.\u001b[39m_forward_hooks \u001b[39mor\u001b[39;00m \u001b[39mself\u001b[39m\u001b[39m.\u001b[39m_forward_pre_hooks \u001b[39mor\u001b[39;00m _global_backward_hooks\n\u001b[0;32m   1129\u001b[0m         \u001b[39mor\u001b[39;00m _global_forward_hooks \u001b[39mor\u001b[39;00m _global_forward_pre_hooks):\n\u001b[1;32m-> 1130\u001b[0m     \u001b[39mreturn\u001b[39;00m forward_call(\u001b[39m*\u001b[39m\u001b[39minput\u001b[39m, \u001b[39m*\u001b[39m\u001b[39m*\u001b[39mkwargs)\n\u001b[0;32m   1131\u001b[0m \u001b[39m# Do not call functions when jit is used\u001b[39;00m\n\u001b[0;32m   1132\u001b[0m full_backward_hooks, non_full_backward_hooks \u001b[39m=\u001b[39m [], []\n",
      "File \u001b[1;32mc:\\Users\\marko.vasilic\\AppData\\Local\\Programs\\Python\\Python39\\lib\\site-packages\\transformers\\models\\roberta\\modeling_roberta.py:1210\u001b[0m, in \u001b[0;36mRobertaForSequenceClassification.forward\u001b[1;34m(self, input_ids, attention_mask, token_type_ids, position_ids, head_mask, inputs_embeds, labels, output_attentions, output_hidden_states, return_dict)\u001b[0m\n\u001b[0;32m   1202\u001b[0m \u001b[39mr\u001b[39m\u001b[39m\"\"\"\u001b[39;00m\n\u001b[0;32m   1203\u001b[0m \u001b[39mlabels (`torch.LongTensor` of shape `(batch_size,)`, *optional*):\u001b[39;00m\n\u001b[0;32m   1204\u001b[0m \u001b[39m    Labels for computing the sequence classification/regression loss. Indices should be in `[0, ...,\u001b[39;00m\n\u001b[0;32m   1205\u001b[0m \u001b[39m    config.num_labels - 1]`. If `config.num_labels == 1` a regression loss is computed (Mean-Square loss), If\u001b[39;00m\n\u001b[0;32m   1206\u001b[0m \u001b[39m    `config.num_labels > 1` a classification loss is computed (Cross-Entropy).\u001b[39;00m\n\u001b[0;32m   1207\u001b[0m \u001b[39m\"\"\"\u001b[39;00m\n\u001b[0;32m   1208\u001b[0m return_dict \u001b[39m=\u001b[39m return_dict \u001b[39mif\u001b[39;00m return_dict \u001b[39mis\u001b[39;00m \u001b[39mnot\u001b[39;00m \u001b[39mNone\u001b[39;00m \u001b[39melse\u001b[39;00m \u001b[39mself\u001b[39m\u001b[39m.\u001b[39mconfig\u001b[39m.\u001b[39muse_return_dict\n\u001b[1;32m-> 1210\u001b[0m outputs \u001b[39m=\u001b[39m \u001b[39mself\u001b[39;49m\u001b[39m.\u001b[39;49mroberta(\n\u001b[0;32m   1211\u001b[0m     input_ids,\n\u001b[0;32m   1212\u001b[0m     attention_mask\u001b[39m=\u001b[39;49mattention_mask,\n\u001b[0;32m   1213\u001b[0m     token_type_ids\u001b[39m=\u001b[39;49mtoken_type_ids,\n\u001b[0;32m   1214\u001b[0m     position_ids\u001b[39m=\u001b[39;49mposition_ids,\n\u001b[0;32m   1215\u001b[0m     head_mask\u001b[39m=\u001b[39;49mhead_mask,\n\u001b[0;32m   1216\u001b[0m     inputs_embeds\u001b[39m=\u001b[39;49minputs_embeds,\n\u001b[0;32m   1217\u001b[0m     output_attentions\u001b[39m=\u001b[39;49moutput_attentions,\n\u001b[0;32m   1218\u001b[0m     output_hidden_states\u001b[39m=\u001b[39;49moutput_hidden_states,\n\u001b[0;32m   1219\u001b[0m     return_dict\u001b[39m=\u001b[39;49mreturn_dict,\n\u001b[0;32m   1220\u001b[0m )\n\u001b[0;32m   1221\u001b[0m sequence_output \u001b[39m=\u001b[39m outputs[\u001b[39m0\u001b[39m]\n\u001b[0;32m   1222\u001b[0m logits \u001b[39m=\u001b[39m \u001b[39mself\u001b[39m\u001b[39m.\u001b[39mclassifier(sequence_output)\n",
      "File \u001b[1;32mc:\\Users\\marko.vasilic\\AppData\\Local\\Programs\\Python\\Python39\\lib\\site-packages\\torch\\nn\\modules\\module.py:1130\u001b[0m, in \u001b[0;36mModule._call_impl\u001b[1;34m(self, *input, **kwargs)\u001b[0m\n\u001b[0;32m   1126\u001b[0m \u001b[39m# If we don't have any hooks, we want to skip the rest of the logic in\u001b[39;00m\n\u001b[0;32m   1127\u001b[0m \u001b[39m# this function, and just call forward.\u001b[39;00m\n\u001b[0;32m   1128\u001b[0m \u001b[39mif\u001b[39;00m \u001b[39mnot\u001b[39;00m (\u001b[39mself\u001b[39m\u001b[39m.\u001b[39m_backward_hooks \u001b[39mor\u001b[39;00m \u001b[39mself\u001b[39m\u001b[39m.\u001b[39m_forward_hooks \u001b[39mor\u001b[39;00m \u001b[39mself\u001b[39m\u001b[39m.\u001b[39m_forward_pre_hooks \u001b[39mor\u001b[39;00m _global_backward_hooks\n\u001b[0;32m   1129\u001b[0m         \u001b[39mor\u001b[39;00m _global_forward_hooks \u001b[39mor\u001b[39;00m _global_forward_pre_hooks):\n\u001b[1;32m-> 1130\u001b[0m     \u001b[39mreturn\u001b[39;00m forward_call(\u001b[39m*\u001b[39m\u001b[39minput\u001b[39m, \u001b[39m*\u001b[39m\u001b[39m*\u001b[39mkwargs)\n\u001b[0;32m   1131\u001b[0m \u001b[39m# Do not call functions when jit is used\u001b[39;00m\n\u001b[0;32m   1132\u001b[0m full_backward_hooks, non_full_backward_hooks \u001b[39m=\u001b[39m [], []\n",
      "File \u001b[1;32mc:\\Users\\marko.vasilic\\AppData\\Local\\Programs\\Python\\Python39\\lib\\site-packages\\transformers\\models\\roberta\\modeling_roberta.py:852\u001b[0m, in \u001b[0;36mRobertaModel.forward\u001b[1;34m(self, input_ids, attention_mask, token_type_ids, position_ids, head_mask, inputs_embeds, encoder_hidden_states, encoder_attention_mask, past_key_values, use_cache, output_attentions, output_hidden_states, return_dict)\u001b[0m\n\u001b[0;32m    843\u001b[0m head_mask \u001b[39m=\u001b[39m \u001b[39mself\u001b[39m\u001b[39m.\u001b[39mget_head_mask(head_mask, \u001b[39mself\u001b[39m\u001b[39m.\u001b[39mconfig\u001b[39m.\u001b[39mnum_hidden_layers)\n\u001b[0;32m    845\u001b[0m embedding_output \u001b[39m=\u001b[39m \u001b[39mself\u001b[39m\u001b[39m.\u001b[39membeddings(\n\u001b[0;32m    846\u001b[0m     input_ids\u001b[39m=\u001b[39minput_ids,\n\u001b[0;32m    847\u001b[0m     position_ids\u001b[39m=\u001b[39mposition_ids,\n\u001b[1;32m   (...)\u001b[0m\n\u001b[0;32m    850\u001b[0m     past_key_values_length\u001b[39m=\u001b[39mpast_key_values_length,\n\u001b[0;32m    851\u001b[0m )\n\u001b[1;32m--> 852\u001b[0m encoder_outputs \u001b[39m=\u001b[39m \u001b[39mself\u001b[39;49m\u001b[39m.\u001b[39;49mencoder(\n\u001b[0;32m    853\u001b[0m     embedding_output,\n\u001b[0;32m    854\u001b[0m     attention_mask\u001b[39m=\u001b[39;49mextended_attention_mask,\n\u001b[0;32m    855\u001b[0m     head_mask\u001b[39m=\u001b[39;49mhead_mask,\n\u001b[0;32m    856\u001b[0m     encoder_hidden_states\u001b[39m=\u001b[39;49mencoder_hidden_states,\n\u001b[0;32m    857\u001b[0m     encoder_attention_mask\u001b[39m=\u001b[39;49mencoder_extended_attention_mask,\n\u001b[0;32m    858\u001b[0m     past_key_values\u001b[39m=\u001b[39;49mpast_key_values,\n\u001b[0;32m    859\u001b[0m     use_cache\u001b[39m=\u001b[39;49muse_cache,\n\u001b[0;32m    860\u001b[0m     output_attentions\u001b[39m=\u001b[39;49moutput_attentions,\n\u001b[0;32m    861\u001b[0m     output_hidden_states\u001b[39m=\u001b[39;49moutput_hidden_states,\n\u001b[0;32m    862\u001b[0m     return_dict\u001b[39m=\u001b[39;49mreturn_dict,\n\u001b[0;32m    863\u001b[0m )\n\u001b[0;32m    864\u001b[0m sequence_output \u001b[39m=\u001b[39m encoder_outputs[\u001b[39m0\u001b[39m]\n\u001b[0;32m    865\u001b[0m pooled_output \u001b[39m=\u001b[39m \u001b[39mself\u001b[39m\u001b[39m.\u001b[39mpooler(sequence_output) \u001b[39mif\u001b[39;00m \u001b[39mself\u001b[39m\u001b[39m.\u001b[39mpooler \u001b[39mis\u001b[39;00m \u001b[39mnot\u001b[39;00m \u001b[39mNone\u001b[39;00m \u001b[39melse\u001b[39;00m \u001b[39mNone\u001b[39;00m\n",
      "File \u001b[1;32mc:\\Users\\marko.vasilic\\AppData\\Local\\Programs\\Python\\Python39\\lib\\site-packages\\torch\\nn\\modules\\module.py:1130\u001b[0m, in \u001b[0;36mModule._call_impl\u001b[1;34m(self, *input, **kwargs)\u001b[0m\n\u001b[0;32m   1126\u001b[0m \u001b[39m# If we don't have any hooks, we want to skip the rest of the logic in\u001b[39;00m\n\u001b[0;32m   1127\u001b[0m \u001b[39m# this function, and just call forward.\u001b[39;00m\n\u001b[0;32m   1128\u001b[0m \u001b[39mif\u001b[39;00m \u001b[39mnot\u001b[39;00m (\u001b[39mself\u001b[39m\u001b[39m.\u001b[39m_backward_hooks \u001b[39mor\u001b[39;00m \u001b[39mself\u001b[39m\u001b[39m.\u001b[39m_forward_hooks \u001b[39mor\u001b[39;00m \u001b[39mself\u001b[39m\u001b[39m.\u001b[39m_forward_pre_hooks \u001b[39mor\u001b[39;00m _global_backward_hooks\n\u001b[0;32m   1129\u001b[0m         \u001b[39mor\u001b[39;00m _global_forward_hooks \u001b[39mor\u001b[39;00m _global_forward_pre_hooks):\n\u001b[1;32m-> 1130\u001b[0m     \u001b[39mreturn\u001b[39;00m forward_call(\u001b[39m*\u001b[39m\u001b[39minput\u001b[39m, \u001b[39m*\u001b[39m\u001b[39m*\u001b[39mkwargs)\n\u001b[0;32m   1131\u001b[0m \u001b[39m# Do not call functions when jit is used\u001b[39;00m\n\u001b[0;32m   1132\u001b[0m full_backward_hooks, non_full_backward_hooks \u001b[39m=\u001b[39m [], []\n",
      "File \u001b[1;32mc:\\Users\\marko.vasilic\\AppData\\Local\\Programs\\Python\\Python39\\lib\\site-packages\\transformers\\models\\roberta\\modeling_roberta.py:528\u001b[0m, in \u001b[0;36mRobertaEncoder.forward\u001b[1;34m(self, hidden_states, attention_mask, head_mask, encoder_hidden_states, encoder_attention_mask, past_key_values, use_cache, output_attentions, output_hidden_states, return_dict)\u001b[0m\n\u001b[0;32m    519\u001b[0m     layer_outputs \u001b[39m=\u001b[39m torch\u001b[39m.\u001b[39mutils\u001b[39m.\u001b[39mcheckpoint\u001b[39m.\u001b[39mcheckpoint(\n\u001b[0;32m    520\u001b[0m         create_custom_forward(layer_module),\n\u001b[0;32m    521\u001b[0m         hidden_states,\n\u001b[1;32m   (...)\u001b[0m\n\u001b[0;32m    525\u001b[0m         encoder_attention_mask,\n\u001b[0;32m    526\u001b[0m     )\n\u001b[0;32m    527\u001b[0m \u001b[39melse\u001b[39;00m:\n\u001b[1;32m--> 528\u001b[0m     layer_outputs \u001b[39m=\u001b[39m layer_module(\n\u001b[0;32m    529\u001b[0m         hidden_states,\n\u001b[0;32m    530\u001b[0m         attention_mask,\n\u001b[0;32m    531\u001b[0m         layer_head_mask,\n\u001b[0;32m    532\u001b[0m         encoder_hidden_states,\n\u001b[0;32m    533\u001b[0m         encoder_attention_mask,\n\u001b[0;32m    534\u001b[0m         past_key_value,\n\u001b[0;32m    535\u001b[0m         output_attentions,\n\u001b[0;32m    536\u001b[0m     )\n\u001b[0;32m    538\u001b[0m hidden_states \u001b[39m=\u001b[39m layer_outputs[\u001b[39m0\u001b[39m]\n\u001b[0;32m    539\u001b[0m \u001b[39mif\u001b[39;00m use_cache:\n",
      "File \u001b[1;32mc:\\Users\\marko.vasilic\\AppData\\Local\\Programs\\Python\\Python39\\lib\\site-packages\\torch\\nn\\modules\\module.py:1130\u001b[0m, in \u001b[0;36mModule._call_impl\u001b[1;34m(self, *input, **kwargs)\u001b[0m\n\u001b[0;32m   1126\u001b[0m \u001b[39m# If we don't have any hooks, we want to skip the rest of the logic in\u001b[39;00m\n\u001b[0;32m   1127\u001b[0m \u001b[39m# this function, and just call forward.\u001b[39;00m\n\u001b[0;32m   1128\u001b[0m \u001b[39mif\u001b[39;00m \u001b[39mnot\u001b[39;00m (\u001b[39mself\u001b[39m\u001b[39m.\u001b[39m_backward_hooks \u001b[39mor\u001b[39;00m \u001b[39mself\u001b[39m\u001b[39m.\u001b[39m_forward_hooks \u001b[39mor\u001b[39;00m \u001b[39mself\u001b[39m\u001b[39m.\u001b[39m_forward_pre_hooks \u001b[39mor\u001b[39;00m _global_backward_hooks\n\u001b[0;32m   1129\u001b[0m         \u001b[39mor\u001b[39;00m _global_forward_hooks \u001b[39mor\u001b[39;00m _global_forward_pre_hooks):\n\u001b[1;32m-> 1130\u001b[0m     \u001b[39mreturn\u001b[39;00m forward_call(\u001b[39m*\u001b[39m\u001b[39minput\u001b[39m, \u001b[39m*\u001b[39m\u001b[39m*\u001b[39mkwargs)\n\u001b[0;32m   1131\u001b[0m \u001b[39m# Do not call functions when jit is used\u001b[39;00m\n\u001b[0;32m   1132\u001b[0m full_backward_hooks, non_full_backward_hooks \u001b[39m=\u001b[39m [], []\n",
      "File \u001b[1;32mc:\\Users\\marko.vasilic\\AppData\\Local\\Programs\\Python\\Python39\\lib\\site-packages\\transformers\\models\\roberta\\modeling_roberta.py:413\u001b[0m, in \u001b[0;36mRobertaLayer.forward\u001b[1;34m(self, hidden_states, attention_mask, head_mask, encoder_hidden_states, encoder_attention_mask, past_key_value, output_attentions)\u001b[0m\n\u001b[0;32m    401\u001b[0m \u001b[39mdef\u001b[39;00m \u001b[39mforward\u001b[39m(\n\u001b[0;32m    402\u001b[0m     \u001b[39mself\u001b[39m,\n\u001b[0;32m    403\u001b[0m     hidden_states: torch\u001b[39m.\u001b[39mTensor,\n\u001b[1;32m   (...)\u001b[0m\n\u001b[0;32m    410\u001b[0m ) \u001b[39m-\u001b[39m\u001b[39m>\u001b[39m Tuple[torch\u001b[39m.\u001b[39mTensor]:\n\u001b[0;32m    411\u001b[0m     \u001b[39m# decoder uni-directional self-attention cached key/values tuple is at positions 1,2\u001b[39;00m\n\u001b[0;32m    412\u001b[0m     self_attn_past_key_value \u001b[39m=\u001b[39m past_key_value[:\u001b[39m2\u001b[39m] \u001b[39mif\u001b[39;00m past_key_value \u001b[39mis\u001b[39;00m \u001b[39mnot\u001b[39;00m \u001b[39mNone\u001b[39;00m \u001b[39melse\u001b[39;00m \u001b[39mNone\u001b[39;00m\n\u001b[1;32m--> 413\u001b[0m     self_attention_outputs \u001b[39m=\u001b[39m \u001b[39mself\u001b[39;49m\u001b[39m.\u001b[39;49mattention(\n\u001b[0;32m    414\u001b[0m         hidden_states,\n\u001b[0;32m    415\u001b[0m         attention_mask,\n\u001b[0;32m    416\u001b[0m         head_mask,\n\u001b[0;32m    417\u001b[0m         output_attentions\u001b[39m=\u001b[39;49moutput_attentions,\n\u001b[0;32m    418\u001b[0m         past_key_value\u001b[39m=\u001b[39;49mself_attn_past_key_value,\n\u001b[0;32m    419\u001b[0m     )\n\u001b[0;32m    420\u001b[0m     attention_output \u001b[39m=\u001b[39m self_attention_outputs[\u001b[39m0\u001b[39m]\n\u001b[0;32m    422\u001b[0m     \u001b[39m# if decoder, the last output is tuple of self-attn cache\u001b[39;00m\n",
      "File \u001b[1;32mc:\\Users\\marko.vasilic\\AppData\\Local\\Programs\\Python\\Python39\\lib\\site-packages\\torch\\nn\\modules\\module.py:1130\u001b[0m, in \u001b[0;36mModule._call_impl\u001b[1;34m(self, *input, **kwargs)\u001b[0m\n\u001b[0;32m   1126\u001b[0m \u001b[39m# If we don't have any hooks, we want to skip the rest of the logic in\u001b[39;00m\n\u001b[0;32m   1127\u001b[0m \u001b[39m# this function, and just call forward.\u001b[39;00m\n\u001b[0;32m   1128\u001b[0m \u001b[39mif\u001b[39;00m \u001b[39mnot\u001b[39;00m (\u001b[39mself\u001b[39m\u001b[39m.\u001b[39m_backward_hooks \u001b[39mor\u001b[39;00m \u001b[39mself\u001b[39m\u001b[39m.\u001b[39m_forward_hooks \u001b[39mor\u001b[39;00m \u001b[39mself\u001b[39m\u001b[39m.\u001b[39m_forward_pre_hooks \u001b[39mor\u001b[39;00m _global_backward_hooks\n\u001b[0;32m   1129\u001b[0m         \u001b[39mor\u001b[39;00m _global_forward_hooks \u001b[39mor\u001b[39;00m _global_forward_pre_hooks):\n\u001b[1;32m-> 1130\u001b[0m     \u001b[39mreturn\u001b[39;00m forward_call(\u001b[39m*\u001b[39m\u001b[39minput\u001b[39m, \u001b[39m*\u001b[39m\u001b[39m*\u001b[39mkwargs)\n\u001b[0;32m   1131\u001b[0m \u001b[39m# Do not call functions when jit is used\u001b[39;00m\n\u001b[0;32m   1132\u001b[0m full_backward_hooks, non_full_backward_hooks \u001b[39m=\u001b[39m [], []\n",
      "File \u001b[1;32mc:\\Users\\marko.vasilic\\AppData\\Local\\Programs\\Python\\Python39\\lib\\site-packages\\transformers\\models\\roberta\\modeling_roberta.py:349\u001b[0m, in \u001b[0;36mRobertaAttention.forward\u001b[1;34m(self, hidden_states, attention_mask, head_mask, encoder_hidden_states, encoder_attention_mask, past_key_value, output_attentions)\u001b[0m\n\u001b[0;32m    330\u001b[0m \u001b[39mdef\u001b[39;00m \u001b[39mforward\u001b[39m(\n\u001b[0;32m    331\u001b[0m     \u001b[39mself\u001b[39m,\n\u001b[0;32m    332\u001b[0m     hidden_states: torch\u001b[39m.\u001b[39mTensor,\n\u001b[1;32m   (...)\u001b[0m\n\u001b[0;32m    338\u001b[0m     output_attentions: Optional[\u001b[39mbool\u001b[39m] \u001b[39m=\u001b[39m \u001b[39mFalse\u001b[39;00m,\n\u001b[0;32m    339\u001b[0m ) \u001b[39m-\u001b[39m\u001b[39m>\u001b[39m Tuple[torch\u001b[39m.\u001b[39mTensor]:\n\u001b[0;32m    340\u001b[0m     self_outputs \u001b[39m=\u001b[39m \u001b[39mself\u001b[39m\u001b[39m.\u001b[39mself(\n\u001b[0;32m    341\u001b[0m         hidden_states,\n\u001b[0;32m    342\u001b[0m         attention_mask,\n\u001b[1;32m   (...)\u001b[0m\n\u001b[0;32m    347\u001b[0m         output_attentions,\n\u001b[0;32m    348\u001b[0m     )\n\u001b[1;32m--> 349\u001b[0m     attention_output \u001b[39m=\u001b[39m \u001b[39mself\u001b[39;49m\u001b[39m.\u001b[39;49moutput(self_outputs[\u001b[39m0\u001b[39;49m], hidden_states)\n\u001b[0;32m    350\u001b[0m     outputs \u001b[39m=\u001b[39m (attention_output,) \u001b[39m+\u001b[39m self_outputs[\u001b[39m1\u001b[39m:]  \u001b[39m# add attentions if we output them\u001b[39;00m\n\u001b[0;32m    351\u001b[0m     \u001b[39mreturn\u001b[39;00m outputs\n",
      "File \u001b[1;32mc:\\Users\\marko.vasilic\\AppData\\Local\\Programs\\Python\\Python39\\lib\\site-packages\\torch\\nn\\modules\\module.py:1130\u001b[0m, in \u001b[0;36mModule._call_impl\u001b[1;34m(self, *input, **kwargs)\u001b[0m\n\u001b[0;32m   1126\u001b[0m \u001b[39m# If we don't have any hooks, we want to skip the rest of the logic in\u001b[39;00m\n\u001b[0;32m   1127\u001b[0m \u001b[39m# this function, and just call forward.\u001b[39;00m\n\u001b[0;32m   1128\u001b[0m \u001b[39mif\u001b[39;00m \u001b[39mnot\u001b[39;00m (\u001b[39mself\u001b[39m\u001b[39m.\u001b[39m_backward_hooks \u001b[39mor\u001b[39;00m \u001b[39mself\u001b[39m\u001b[39m.\u001b[39m_forward_hooks \u001b[39mor\u001b[39;00m \u001b[39mself\u001b[39m\u001b[39m.\u001b[39m_forward_pre_hooks \u001b[39mor\u001b[39;00m _global_backward_hooks\n\u001b[0;32m   1129\u001b[0m         \u001b[39mor\u001b[39;00m _global_forward_hooks \u001b[39mor\u001b[39;00m _global_forward_pre_hooks):\n\u001b[1;32m-> 1130\u001b[0m     \u001b[39mreturn\u001b[39;00m forward_call(\u001b[39m*\u001b[39m\u001b[39minput\u001b[39m, \u001b[39m*\u001b[39m\u001b[39m*\u001b[39mkwargs)\n\u001b[0;32m   1131\u001b[0m \u001b[39m# Do not call functions when jit is used\u001b[39;00m\n\u001b[0;32m   1132\u001b[0m full_backward_hooks, non_full_backward_hooks \u001b[39m=\u001b[39m [], []\n",
      "File \u001b[1;32mc:\\Users\\marko.vasilic\\AppData\\Local\\Programs\\Python\\Python39\\lib\\site-packages\\transformers\\models\\roberta\\modeling_roberta.py:298\u001b[0m, in \u001b[0;36mRobertaSelfOutput.forward\u001b[1;34m(self, hidden_states, input_tensor)\u001b[0m\n\u001b[0;32m    297\u001b[0m \u001b[39mdef\u001b[39;00m \u001b[39mforward\u001b[39m(\u001b[39mself\u001b[39m, hidden_states: torch\u001b[39m.\u001b[39mTensor, input_tensor: torch\u001b[39m.\u001b[39mTensor) \u001b[39m-\u001b[39m\u001b[39m>\u001b[39m torch\u001b[39m.\u001b[39mTensor:\n\u001b[1;32m--> 298\u001b[0m     hidden_states \u001b[39m=\u001b[39m \u001b[39mself\u001b[39;49m\u001b[39m.\u001b[39;49mdense(hidden_states)\n\u001b[0;32m    299\u001b[0m     hidden_states \u001b[39m=\u001b[39m \u001b[39mself\u001b[39m\u001b[39m.\u001b[39mdropout(hidden_states)\n\u001b[0;32m    300\u001b[0m     hidden_states \u001b[39m=\u001b[39m \u001b[39mself\u001b[39m\u001b[39m.\u001b[39mLayerNorm(hidden_states \u001b[39m+\u001b[39m input_tensor)\n",
      "File \u001b[1;32mc:\\Users\\marko.vasilic\\AppData\\Local\\Programs\\Python\\Python39\\lib\\site-packages\\torch\\nn\\modules\\module.py:1130\u001b[0m, in \u001b[0;36mModule._call_impl\u001b[1;34m(self, *input, **kwargs)\u001b[0m\n\u001b[0;32m   1126\u001b[0m \u001b[39m# If we don't have any hooks, we want to skip the rest of the logic in\u001b[39;00m\n\u001b[0;32m   1127\u001b[0m \u001b[39m# this function, and just call forward.\u001b[39;00m\n\u001b[0;32m   1128\u001b[0m \u001b[39mif\u001b[39;00m \u001b[39mnot\u001b[39;00m (\u001b[39mself\u001b[39m\u001b[39m.\u001b[39m_backward_hooks \u001b[39mor\u001b[39;00m \u001b[39mself\u001b[39m\u001b[39m.\u001b[39m_forward_hooks \u001b[39mor\u001b[39;00m \u001b[39mself\u001b[39m\u001b[39m.\u001b[39m_forward_pre_hooks \u001b[39mor\u001b[39;00m _global_backward_hooks\n\u001b[0;32m   1129\u001b[0m         \u001b[39mor\u001b[39;00m _global_forward_hooks \u001b[39mor\u001b[39;00m _global_forward_pre_hooks):\n\u001b[1;32m-> 1130\u001b[0m     \u001b[39mreturn\u001b[39;00m forward_call(\u001b[39m*\u001b[39m\u001b[39minput\u001b[39m, \u001b[39m*\u001b[39m\u001b[39m*\u001b[39mkwargs)\n\u001b[0;32m   1131\u001b[0m \u001b[39m# Do not call functions when jit is used\u001b[39;00m\n\u001b[0;32m   1132\u001b[0m full_backward_hooks, non_full_backward_hooks \u001b[39m=\u001b[39m [], []\n",
      "File \u001b[1;32mc:\\Users\\marko.vasilic\\AppData\\Local\\Programs\\Python\\Python39\\lib\\site-packages\\torch\\nn\\modules\\linear.py:114\u001b[0m, in \u001b[0;36mLinear.forward\u001b[1;34m(self, input)\u001b[0m\n\u001b[0;32m    113\u001b[0m \u001b[39mdef\u001b[39;00m \u001b[39mforward\u001b[39m(\u001b[39mself\u001b[39m, \u001b[39minput\u001b[39m: Tensor) \u001b[39m-\u001b[39m\u001b[39m>\u001b[39m Tensor:\n\u001b[1;32m--> 114\u001b[0m     \u001b[39mreturn\u001b[39;00m F\u001b[39m.\u001b[39;49mlinear(\u001b[39minput\u001b[39;49m, \u001b[39mself\u001b[39;49m\u001b[39m.\u001b[39;49mweight, \u001b[39mself\u001b[39;49m\u001b[39m.\u001b[39;49mbias)\n",
      "\u001b[1;31mKeyboardInterrupt\u001b[0m: "
     ]
    }
   ],
   "source": [
    "res = []\n",
    "for index, row in tqdm(new_df.iterrows(), total=len(new_df)):\n",
    "    temp = polarity_scores_roberta(row['review_body'])\n",
    "    for key, value in temp.items():\n",
    "        print(i)\n",
    "        if value == max(temp['roberta_pos'], temp['roberta_neg'], temp['roberta_neu']):\n",
    "            res.append(key)\n",
    "temp = pd.DataFrame(res)\n",
    "temp.value_counts()"
   ]
  },
  {
   "cell_type": "code",
   "execution_count": 11,
   "metadata": {},
   "outputs": [
    {
     "name": "stderr",
     "output_type": "stream",
     "text": [
      "C:\\Users\\marko.vasilic\\AppData\\Local\\Temp\\ipykernel_916\\1791077146.py:1: SettingWithCopyWarning: \n",
      "A value is trying to be set on a copy of a slice from a DataFrame.\n",
      "Try using .loc[row_indexer,col_indexer] = value instead\n",
      "\n",
      "See the caveats in the documentation: https://pandas.pydata.org/pandas-docs/stable/user_guide/indexing.html#returning-a-view-versus-a-copy\n",
      "  new_df['roberta_sentiment'] = res\n"
     ]
    },
    {
     "data": {
      "text/html": [
       "<div>\n",
       "<style scoped>\n",
       "    .dataframe tbody tr th:only-of-type {\n",
       "        vertical-align: middle;\n",
       "    }\n",
       "\n",
       "    .dataframe tbody tr th {\n",
       "        vertical-align: top;\n",
       "    }\n",
       "\n",
       "    .dataframe thead th {\n",
       "        text-align: right;\n",
       "    }\n",
       "</style>\n",
       "<table border=\"1\" class=\"dataframe\">\n",
       "  <thead>\n",
       "    <tr style=\"text-align: right;\">\n",
       "      <th></th>\n",
       "      <th>review_id</th>\n",
       "      <th>product_id</th>\n",
       "      <th>reviewer_id</th>\n",
       "      <th>stars</th>\n",
       "      <th>review_body</th>\n",
       "      <th>review_title</th>\n",
       "      <th>language</th>\n",
       "      <th>product_category</th>\n",
       "      <th>vader_sentiment</th>\n",
       "      <th>roberta_sentiment</th>\n",
       "    </tr>\n",
       "  </thead>\n",
       "  <tbody>\n",
       "    <tr>\n",
       "      <th>0</th>\n",
       "      <td>en_0498956</td>\n",
       "      <td>product_en_0828306</td>\n",
       "      <td>reviewer_en_0523960</td>\n",
       "      <td>1</td>\n",
       "      <td>fit well clunki</td>\n",
       "      <td>one star</td>\n",
       "      <td>en</td>\n",
       "      <td>drugstore</td>\n",
       "      <td>vader_pos</td>\n",
       "      <td>roberta_neu</td>\n",
       "    </tr>\n",
       "    <tr>\n",
       "      <th>1</th>\n",
       "      <td>en_0093747</td>\n",
       "      <td>product_en_0552817</td>\n",
       "      <td>reviewer_en_0994139</td>\n",
       "      <td>1</td>\n",
       "      <td>particular pattern keep get larg hole return f...</td>\n",
       "      <td>one differ print great hole</td>\n",
       "      <td>en</td>\n",
       "      <td>apparel</td>\n",
       "      <td>vader_neu</td>\n",
       "      <td>roberta_neu</td>\n",
       "    </tr>\n",
       "    <tr>\n",
       "      <th>2</th>\n",
       "      <td>en_0395419</td>\n",
       "      <td>product_en_0647135</td>\n",
       "      <td>reviewer_en_0938679</td>\n",
       "      <td>4</td>\n",
       "      <td>book help learn sexual attitud toward differ r...</td>\n",
       "      <td>book help learn sexual</td>\n",
       "      <td>en</td>\n",
       "      <td>digital_ebook_purchase</td>\n",
       "      <td>vader_neu</td>\n",
       "      <td>roberta_neu</td>\n",
       "    </tr>\n",
       "    <tr>\n",
       "      <th>3</th>\n",
       "      <td>en_0076703</td>\n",
       "      <td>product_en_0528027</td>\n",
       "      <td>reviewer_en_0988264</td>\n",
       "      <td>2</td>\n",
       "      <td>much smaller anticip take blame assum would no...</td>\n",
       "      <td>disappoint small</td>\n",
       "      <td>en</td>\n",
       "      <td>furniture</td>\n",
       "      <td>vader_neu</td>\n",
       "      <td>roberta_neu</td>\n",
       "    </tr>\n",
       "    <tr>\n",
       "      <th>4</th>\n",
       "      <td>en_0503361</td>\n",
       "      <td>product_en_0395277</td>\n",
       "      <td>reviewer_en_0258043</td>\n",
       "      <td>2</td>\n",
       "      <td>ring part brome month reveal made cheap materi...</td>\n",
       "      <td>cheap</td>\n",
       "      <td>en</td>\n",
       "      <td>beauty</td>\n",
       "      <td>vader_neu</td>\n",
       "      <td>roberta_neu</td>\n",
       "    </tr>\n",
       "    <tr>\n",
       "      <th>...</th>\n",
       "      <td>...</td>\n",
       "      <td>...</td>\n",
       "      <td>...</td>\n",
       "      <td>...</td>\n",
       "      <td>...</td>\n",
       "      <td>...</td>\n",
       "      <td>...</td>\n",
       "      <td>...</td>\n",
       "      <td>...</td>\n",
       "      <td>...</td>\n",
       "    </tr>\n",
       "    <tr>\n",
       "      <th>995</th>\n",
       "      <td>en_0348579</td>\n",
       "      <td>product_en_0470247</td>\n",
       "      <td>reviewer_en_0829023</td>\n",
       "      <td>4</td>\n",
       "      <td>nice book want learn journey got gift</td>\n",
       "      <td>worth learn</td>\n",
       "      <td>en</td>\n",
       "      <td>book</td>\n",
       "      <td>vader_pos</td>\n",
       "      <td>roberta_pos</td>\n",
       "    </tr>\n",
       "    <tr>\n",
       "      <th>996</th>\n",
       "      <td>en_0468187</td>\n",
       "      <td>product_en_0431952</td>\n",
       "      <td>reviewer_en_0025350</td>\n",
       "      <td>5</td>\n",
       "      <td>vibrant fuchsia color make sure order two one ...</td>\n",
       "      <td>love color</td>\n",
       "      <td>en</td>\n",
       "      <td>other</td>\n",
       "      <td>vader_neu</td>\n",
       "      <td>roberta_neu</td>\n",
       "    </tr>\n",
       "    <tr>\n",
       "      <th>997</th>\n",
       "      <td>en_0065822</td>\n",
       "      <td>product_en_0850981</td>\n",
       "      <td>reviewer_en_0713822</td>\n",
       "      <td>1</td>\n",
       "      <td>order doubl check order like way not call exac...</td>\n",
       "      <td>sent wrong size</td>\n",
       "      <td>en</td>\n",
       "      <td>apparel</td>\n",
       "      <td>vader_neu</td>\n",
       "      <td>roberta_neu</td>\n",
       "    </tr>\n",
       "    <tr>\n",
       "      <th>998</th>\n",
       "      <td>en_0771285</td>\n",
       "      <td>product_en_0725143</td>\n",
       "      <td>reviewer_en_0038475</td>\n",
       "      <td>1</td>\n",
       "      <td>thing great smaller list say hold much weight ...</td>\n",
       "      <td>not good</td>\n",
       "      <td>en</td>\n",
       "      <td>home</td>\n",
       "      <td>vader_neu</td>\n",
       "      <td>roberta_neu</td>\n",
       "    </tr>\n",
       "    <tr>\n",
       "      <th>999</th>\n",
       "      <td>en_0432607</td>\n",
       "      <td>product_en_0654711</td>\n",
       "      <td>reviewer_en_0374011</td>\n",
       "      <td>5</td>\n",
       "      <td>pond low level alarm save much troubl sever ti...</td>\n",
       "      <td>work consist advertis good design</td>\n",
       "      <td>en</td>\n",
       "      <td>other</td>\n",
       "      <td>vader_neu</td>\n",
       "      <td>roberta_neu</td>\n",
       "    </tr>\n",
       "  </tbody>\n",
       "</table>\n",
       "<p>1000 rows × 10 columns</p>\n",
       "</div>"
      ],
      "text/plain": [
       "      review_id          product_id          reviewer_id  stars  \\\n",
       "0    en_0498956  product_en_0828306  reviewer_en_0523960      1   \n",
       "1    en_0093747  product_en_0552817  reviewer_en_0994139      1   \n",
       "2    en_0395419  product_en_0647135  reviewer_en_0938679      4   \n",
       "3    en_0076703  product_en_0528027  reviewer_en_0988264      2   \n",
       "4    en_0503361  product_en_0395277  reviewer_en_0258043      2   \n",
       "..          ...                 ...                  ...    ...   \n",
       "995  en_0348579  product_en_0470247  reviewer_en_0829023      4   \n",
       "996  en_0468187  product_en_0431952  reviewer_en_0025350      5   \n",
       "997  en_0065822  product_en_0850981  reviewer_en_0713822      1   \n",
       "998  en_0771285  product_en_0725143  reviewer_en_0038475      1   \n",
       "999  en_0432607  product_en_0654711  reviewer_en_0374011      5   \n",
       "\n",
       "                                           review_body  \\\n",
       "0                                      fit well clunki   \n",
       "1    particular pattern keep get larg hole return f...   \n",
       "2    book help learn sexual attitud toward differ r...   \n",
       "3    much smaller anticip take blame assum would no...   \n",
       "4    ring part brome month reveal made cheap materi...   \n",
       "..                                                 ...   \n",
       "995              nice book want learn journey got gift   \n",
       "996  vibrant fuchsia color make sure order two one ...   \n",
       "997  order doubl check order like way not call exac...   \n",
       "998  thing great smaller list say hold much weight ...   \n",
       "999  pond low level alarm save much troubl sever ti...   \n",
       "\n",
       "                          review_title language        product_category  \\\n",
       "0                             one star       en               drugstore   \n",
       "1          one differ print great hole       en                 apparel   \n",
       "2               book help learn sexual       en  digital_ebook_purchase   \n",
       "3                     disappoint small       en               furniture   \n",
       "4                                cheap       en                  beauty   \n",
       "..                                 ...      ...                     ...   \n",
       "995                        worth learn       en                    book   \n",
       "996                         love color       en                   other   \n",
       "997                    sent wrong size       en                 apparel   \n",
       "998                           not good       en                    home   \n",
       "999  work consist advertis good design       en                   other   \n",
       "\n",
       "    vader_sentiment roberta_sentiment  \n",
       "0         vader_pos       roberta_neu  \n",
       "1         vader_neu       roberta_neu  \n",
       "2         vader_neu       roberta_neu  \n",
       "3         vader_neu       roberta_neu  \n",
       "4         vader_neu       roberta_neu  \n",
       "..              ...               ...  \n",
       "995       vader_pos       roberta_pos  \n",
       "996       vader_neu       roberta_neu  \n",
       "997       vader_neu       roberta_neu  \n",
       "998       vader_neu       roberta_neu  \n",
       "999       vader_neu       roberta_neu  \n",
       "\n",
       "[1000 rows x 10 columns]"
      ]
     },
     "execution_count": 11,
     "metadata": {},
     "output_type": "execute_result"
    }
   ],
   "source": [
    "new_df['roberta_sentiment'] = res\n",
    "new_df"
   ]
  },
  {
   "cell_type": "markdown",
   "metadata": {},
   "source": [
    "## Distilbert"
   ]
  },
  {
   "cell_type": "code",
   "execution_count": 12,
   "metadata": {},
   "outputs": [],
   "source": [
    "from transformers import pipeline"
   ]
  },
  {
   "cell_type": "code",
   "execution_count": 13,
   "metadata": {},
   "outputs": [
    {
     "name": "stdout",
     "output_type": "stream",
     "text": [
      "NEGATIVE\n",
      "order doubl check order like way not call exact size ship list say actual tripl check made sure order xxl wife l daughter reciev medium larg not order medium extrem leari follow better judgement could not see actual size cart gut feel correct jacket daughter tight hassl return whatev\n"
     ]
    }
   ],
   "source": [
    "model_name = \"distilbert-base-uncased-finetuned-sst-2-english\"\n",
    "\n",
    "classifier = pipeline(\"sentiment-analysis\", model = model_name)\n",
    "print(classifier(new_df['review_body'][997])[0]['label'])\n",
    "print(new_df['review_body'][997])"
   ]
  },
  {
   "cell_type": "code",
   "execution_count": 14,
   "metadata": {},
   "outputs": [
    {
     "name": "stderr",
     "output_type": "stream",
     "text": [
      "100%|██████████| 1000/1000 [00:19<00:00, 50.82it/s]\n",
      "C:\\Users\\marko.vasilic\\AppData\\Local\\Temp\\ipykernel_916\\2621103644.py:10: SettingWithCopyWarning: \n",
      "A value is trying to be set on a copy of a slice from a DataFrame.\n",
      "Try using .loc[row_indexer,col_indexer] = value instead\n",
      "\n",
      "See the caveats in the documentation: https://pandas.pydata.org/pandas-docs/stable/user_guide/indexing.html#returning-a-view-versus-a-copy\n",
      "  new_df['distilbert_sentiment'] = distilbert_sentiment\n"
     ]
    }
   ],
   "source": [
    "distilbert_sentiment = []\n",
    "for index, row in tqdm(new_df.iterrows(), total=len(new_df)):\n",
    "    res = classifier(row['review_body'])[0]\n",
    "    if res['score'] > 0.7 and res['label'] == 'POSITIVE':\n",
    "        distilbert_sentiment.append('distilbert_pos')\n",
    "    elif res['score'] > 0.7 and res['label'] == 'NEGATIVE':\n",
    "        distilbert_sentiment.append('distilbert_neg')\n",
    "    else:\n",
    "        distilbert_sentiment.append('distilbert_neu')\n",
    "new_df['distilbert_sentiment'] = distilbert_sentiment"
   ]
  },
  {
   "cell_type": "markdown",
   "metadata": {},
   "source": [
    "## Calculate score"
   ]
  },
  {
   "cell_type": "code",
   "execution_count": 15,
   "metadata": {},
   "outputs": [],
   "source": [
    "def check_sentiment(eval, star):\n",
    "    if (star < 3 and eval != 'neg') or (star > 3 and eval != 'pos') or (star == 3 and eval != 'neu'):\n",
    "        return False\n",
    "    return True"
   ]
  },
  {
   "cell_type": "code",
   "execution_count": 16,
   "metadata": {},
   "outputs": [
    {
     "name": "stderr",
     "output_type": "stream",
     "text": [
      "100%|██████████| 1000/1000 [00:00<00:00, 22734.71it/s]"
     ]
    },
    {
     "name": "stdout",
     "output_type": "stream",
     "text": [
      "0.274\n",
      "0.481\n",
      "0.57\n"
     ]
    },
    {
     "name": "stderr",
     "output_type": "stream",
     "text": [
      "\n",
      "C:\\Users\\marko.vasilic\\AppData\\Local\\Temp\\ipykernel_916\\3076350570.py:8: SettingWithCopyWarning: \n",
      "A value is trying to be set on a copy of a slice from a DataFrame.\n",
      "Try using .loc[row_indexer,col_indexer] = value instead\n",
      "\n",
      "See the caveats in the documentation: https://pandas.pydata.org/pandas-docs/stable/user_guide/indexing.html#returning-a-view-versus-a-copy\n",
      "  new_df['vader_score'] = vader_score\n",
      "C:\\Users\\marko.vasilic\\AppData\\Local\\Temp\\ipykernel_916\\3076350570.py:9: SettingWithCopyWarning: \n",
      "A value is trying to be set on a copy of a slice from a DataFrame.\n",
      "Try using .loc[row_indexer,col_indexer] = value instead\n",
      "\n",
      "See the caveats in the documentation: https://pandas.pydata.org/pandas-docs/stable/user_guide/indexing.html#returning-a-view-versus-a-copy\n",
      "  new_df['roberta_score'] = roberta_score\n",
      "C:\\Users\\marko.vasilic\\AppData\\Local\\Temp\\ipykernel_916\\3076350570.py:10: SettingWithCopyWarning: \n",
      "A value is trying to be set on a copy of a slice from a DataFrame.\n",
      "Try using .loc[row_indexer,col_indexer] = value instead\n",
      "\n",
      "See the caveats in the documentation: https://pandas.pydata.org/pandas-docs/stable/user_guide/indexing.html#returning-a-view-versus-a-copy\n",
      "  new_df['distilbert_score'] = distilbert_score\n"
     ]
    },
    {
     "data": {
      "text/html": [
       "<div>\n",
       "<style scoped>\n",
       "    .dataframe tbody tr th:only-of-type {\n",
       "        vertical-align: middle;\n",
       "    }\n",
       "\n",
       "    .dataframe tbody tr th {\n",
       "        vertical-align: top;\n",
       "    }\n",
       "\n",
       "    .dataframe thead th {\n",
       "        text-align: right;\n",
       "    }\n",
       "</style>\n",
       "<table border=\"1\" class=\"dataframe\">\n",
       "  <thead>\n",
       "    <tr style=\"text-align: right;\">\n",
       "      <th></th>\n",
       "      <th>review_id</th>\n",
       "      <th>product_id</th>\n",
       "      <th>reviewer_id</th>\n",
       "      <th>stars</th>\n",
       "      <th>review_body</th>\n",
       "      <th>review_title</th>\n",
       "      <th>language</th>\n",
       "      <th>product_category</th>\n",
       "      <th>vader_sentiment</th>\n",
       "      <th>roberta_sentiment</th>\n",
       "      <th>distilbert_sentiment</th>\n",
       "      <th>vader_score</th>\n",
       "      <th>roberta_score</th>\n",
       "      <th>distilbert_score</th>\n",
       "    </tr>\n",
       "  </thead>\n",
       "  <tbody>\n",
       "    <tr>\n",
       "      <th>0</th>\n",
       "      <td>en_0498956</td>\n",
       "      <td>product_en_0828306</td>\n",
       "      <td>reviewer_en_0523960</td>\n",
       "      <td>1</td>\n",
       "      <td>fit well clunki</td>\n",
       "      <td>one star</td>\n",
       "      <td>en</td>\n",
       "      <td>drugstore</td>\n",
       "      <td>vader_pos</td>\n",
       "      <td>roberta_neu</td>\n",
       "      <td>distilbert_pos</td>\n",
       "      <td>False</td>\n",
       "      <td>False</td>\n",
       "      <td>False</td>\n",
       "    </tr>\n",
       "    <tr>\n",
       "      <th>1</th>\n",
       "      <td>en_0093747</td>\n",
       "      <td>product_en_0552817</td>\n",
       "      <td>reviewer_en_0994139</td>\n",
       "      <td>1</td>\n",
       "      <td>particular pattern keep get larg hole return f...</td>\n",
       "      <td>one differ print great hole</td>\n",
       "      <td>en</td>\n",
       "      <td>apparel</td>\n",
       "      <td>vader_neu</td>\n",
       "      <td>roberta_neu</td>\n",
       "      <td>distilbert_neg</td>\n",
       "      <td>False</td>\n",
       "      <td>False</td>\n",
       "      <td>True</td>\n",
       "    </tr>\n",
       "    <tr>\n",
       "      <th>2</th>\n",
       "      <td>en_0395419</td>\n",
       "      <td>product_en_0647135</td>\n",
       "      <td>reviewer_en_0938679</td>\n",
       "      <td>4</td>\n",
       "      <td>book help learn sexual attitud toward differ r...</td>\n",
       "      <td>book help learn sexual</td>\n",
       "      <td>en</td>\n",
       "      <td>digital_ebook_purchase</td>\n",
       "      <td>vader_neu</td>\n",
       "      <td>roberta_neu</td>\n",
       "      <td>distilbert_neg</td>\n",
       "      <td>False</td>\n",
       "      <td>False</td>\n",
       "      <td>False</td>\n",
       "    </tr>\n",
       "    <tr>\n",
       "      <th>3</th>\n",
       "      <td>en_0076703</td>\n",
       "      <td>product_en_0528027</td>\n",
       "      <td>reviewer_en_0988264</td>\n",
       "      <td>2</td>\n",
       "      <td>much smaller anticip take blame assum would no...</td>\n",
       "      <td>disappoint small</td>\n",
       "      <td>en</td>\n",
       "      <td>furniture</td>\n",
       "      <td>vader_neu</td>\n",
       "      <td>roberta_neu</td>\n",
       "      <td>distilbert_neg</td>\n",
       "      <td>False</td>\n",
       "      <td>False</td>\n",
       "      <td>True</td>\n",
       "    </tr>\n",
       "    <tr>\n",
       "      <th>4</th>\n",
       "      <td>en_0503361</td>\n",
       "      <td>product_en_0395277</td>\n",
       "      <td>reviewer_en_0258043</td>\n",
       "      <td>2</td>\n",
       "      <td>ring part brome month reveal made cheap materi...</td>\n",
       "      <td>cheap</td>\n",
       "      <td>en</td>\n",
       "      <td>beauty</td>\n",
       "      <td>vader_neu</td>\n",
       "      <td>roberta_neu</td>\n",
       "      <td>distilbert_neg</td>\n",
       "      <td>False</td>\n",
       "      <td>False</td>\n",
       "      <td>True</td>\n",
       "    </tr>\n",
       "    <tr>\n",
       "      <th>...</th>\n",
       "      <td>...</td>\n",
       "      <td>...</td>\n",
       "      <td>...</td>\n",
       "      <td>...</td>\n",
       "      <td>...</td>\n",
       "      <td>...</td>\n",
       "      <td>...</td>\n",
       "      <td>...</td>\n",
       "      <td>...</td>\n",
       "      <td>...</td>\n",
       "      <td>...</td>\n",
       "      <td>...</td>\n",
       "      <td>...</td>\n",
       "      <td>...</td>\n",
       "    </tr>\n",
       "    <tr>\n",
       "      <th>995</th>\n",
       "      <td>en_0348579</td>\n",
       "      <td>product_en_0470247</td>\n",
       "      <td>reviewer_en_0829023</td>\n",
       "      <td>4</td>\n",
       "      <td>nice book want learn journey got gift</td>\n",
       "      <td>worth learn</td>\n",
       "      <td>en</td>\n",
       "      <td>book</td>\n",
       "      <td>vader_pos</td>\n",
       "      <td>roberta_pos</td>\n",
       "      <td>distilbert_pos</td>\n",
       "      <td>True</td>\n",
       "      <td>True</td>\n",
       "      <td>True</td>\n",
       "    </tr>\n",
       "    <tr>\n",
       "      <th>996</th>\n",
       "      <td>en_0468187</td>\n",
       "      <td>product_en_0431952</td>\n",
       "      <td>reviewer_en_0025350</td>\n",
       "      <td>5</td>\n",
       "      <td>vibrant fuchsia color make sure order two one ...</td>\n",
       "      <td>love color</td>\n",
       "      <td>en</td>\n",
       "      <td>other</td>\n",
       "      <td>vader_neu</td>\n",
       "      <td>roberta_neu</td>\n",
       "      <td>distilbert_pos</td>\n",
       "      <td>False</td>\n",
       "      <td>False</td>\n",
       "      <td>True</td>\n",
       "    </tr>\n",
       "    <tr>\n",
       "      <th>997</th>\n",
       "      <td>en_0065822</td>\n",
       "      <td>product_en_0850981</td>\n",
       "      <td>reviewer_en_0713822</td>\n",
       "      <td>1</td>\n",
       "      <td>order doubl check order like way not call exac...</td>\n",
       "      <td>sent wrong size</td>\n",
       "      <td>en</td>\n",
       "      <td>apparel</td>\n",
       "      <td>vader_neu</td>\n",
       "      <td>roberta_neu</td>\n",
       "      <td>distilbert_neg</td>\n",
       "      <td>False</td>\n",
       "      <td>False</td>\n",
       "      <td>True</td>\n",
       "    </tr>\n",
       "    <tr>\n",
       "      <th>998</th>\n",
       "      <td>en_0771285</td>\n",
       "      <td>product_en_0725143</td>\n",
       "      <td>reviewer_en_0038475</td>\n",
       "      <td>1</td>\n",
       "      <td>thing great smaller list say hold much weight ...</td>\n",
       "      <td>not good</td>\n",
       "      <td>en</td>\n",
       "      <td>home</td>\n",
       "      <td>vader_neu</td>\n",
       "      <td>roberta_neu</td>\n",
       "      <td>distilbert_neg</td>\n",
       "      <td>False</td>\n",
       "      <td>False</td>\n",
       "      <td>True</td>\n",
       "    </tr>\n",
       "    <tr>\n",
       "      <th>999</th>\n",
       "      <td>en_0432607</td>\n",
       "      <td>product_en_0654711</td>\n",
       "      <td>reviewer_en_0374011</td>\n",
       "      <td>5</td>\n",
       "      <td>pond low level alarm save much troubl sever ti...</td>\n",
       "      <td>work consist advertis good design</td>\n",
       "      <td>en</td>\n",
       "      <td>other</td>\n",
       "      <td>vader_neu</td>\n",
       "      <td>roberta_neu</td>\n",
       "      <td>distilbert_neg</td>\n",
       "      <td>False</td>\n",
       "      <td>False</td>\n",
       "      <td>False</td>\n",
       "    </tr>\n",
       "  </tbody>\n",
       "</table>\n",
       "<p>1000 rows × 14 columns</p>\n",
       "</div>"
      ],
      "text/plain": [
       "      review_id          product_id          reviewer_id  stars  \\\n",
       "0    en_0498956  product_en_0828306  reviewer_en_0523960      1   \n",
       "1    en_0093747  product_en_0552817  reviewer_en_0994139      1   \n",
       "2    en_0395419  product_en_0647135  reviewer_en_0938679      4   \n",
       "3    en_0076703  product_en_0528027  reviewer_en_0988264      2   \n",
       "4    en_0503361  product_en_0395277  reviewer_en_0258043      2   \n",
       "..          ...                 ...                  ...    ...   \n",
       "995  en_0348579  product_en_0470247  reviewer_en_0829023      4   \n",
       "996  en_0468187  product_en_0431952  reviewer_en_0025350      5   \n",
       "997  en_0065822  product_en_0850981  reviewer_en_0713822      1   \n",
       "998  en_0771285  product_en_0725143  reviewer_en_0038475      1   \n",
       "999  en_0432607  product_en_0654711  reviewer_en_0374011      5   \n",
       "\n",
       "                                           review_body  \\\n",
       "0                                      fit well clunki   \n",
       "1    particular pattern keep get larg hole return f...   \n",
       "2    book help learn sexual attitud toward differ r...   \n",
       "3    much smaller anticip take blame assum would no...   \n",
       "4    ring part brome month reveal made cheap materi...   \n",
       "..                                                 ...   \n",
       "995              nice book want learn journey got gift   \n",
       "996  vibrant fuchsia color make sure order two one ...   \n",
       "997  order doubl check order like way not call exac...   \n",
       "998  thing great smaller list say hold much weight ...   \n",
       "999  pond low level alarm save much troubl sever ti...   \n",
       "\n",
       "                          review_title language        product_category  \\\n",
       "0                             one star       en               drugstore   \n",
       "1          one differ print great hole       en                 apparel   \n",
       "2               book help learn sexual       en  digital_ebook_purchase   \n",
       "3                     disappoint small       en               furniture   \n",
       "4                                cheap       en                  beauty   \n",
       "..                                 ...      ...                     ...   \n",
       "995                        worth learn       en                    book   \n",
       "996                         love color       en                   other   \n",
       "997                    sent wrong size       en                 apparel   \n",
       "998                           not good       en                    home   \n",
       "999  work consist advertis good design       en                   other   \n",
       "\n",
       "    vader_sentiment roberta_sentiment distilbert_sentiment  vader_score  \\\n",
       "0         vader_pos       roberta_neu       distilbert_pos        False   \n",
       "1         vader_neu       roberta_neu       distilbert_neg        False   \n",
       "2         vader_neu       roberta_neu       distilbert_neg        False   \n",
       "3         vader_neu       roberta_neu       distilbert_neg        False   \n",
       "4         vader_neu       roberta_neu       distilbert_neg        False   \n",
       "..              ...               ...                  ...          ...   \n",
       "995       vader_pos       roberta_pos       distilbert_pos         True   \n",
       "996       vader_neu       roberta_neu       distilbert_pos        False   \n",
       "997       vader_neu       roberta_neu       distilbert_neg        False   \n",
       "998       vader_neu       roberta_neu       distilbert_neg        False   \n",
       "999       vader_neu       roberta_neu       distilbert_neg        False   \n",
       "\n",
       "     roberta_score  distilbert_score  \n",
       "0            False             False  \n",
       "1            False              True  \n",
       "2            False             False  \n",
       "3            False              True  \n",
       "4            False              True  \n",
       "..             ...               ...  \n",
       "995           True              True  \n",
       "996          False              True  \n",
       "997          False              True  \n",
       "998          False              True  \n",
       "999          False             False  \n",
       "\n",
       "[1000 rows x 14 columns]"
      ]
     },
     "execution_count": 16,
     "metadata": {},
     "output_type": "execute_result"
    }
   ],
   "source": [
    "vader_score = []\n",
    "roberta_score = []\n",
    "distilbert_score = []\n",
    "for index, row in tqdm(new_df.iterrows(), total=len(new_df)):\n",
    "    vader_score.append(check_sentiment(row['vader_sentiment'][-3:], row['stars']))\n",
    "    roberta_score.append(check_sentiment(row['roberta_sentiment'][-3:], row['stars']))\n",
    "    distilbert_score.append(check_sentiment(row['distilbert_sentiment'][-3:], row['stars']))\n",
    "new_df['vader_score'] = vader_score\n",
    "new_df['roberta_score'] = roberta_score\n",
    "new_df['distilbert_score'] = distilbert_score\n",
    "print(sum(vader_score)/len(new_df))\n",
    "print(sum(roberta_score)/len(new_df))\n",
    "print(sum(distilbert_score)/len(new_df))\n",
    "new_df"
   ]
  },
  {
   "cell_type": "markdown",
   "metadata": {},
   "source": [
    "## Vocabulary sentiment analysis"
   ]
  },
  {
   "cell_type": "code",
   "execution_count": 17,
   "metadata": {},
   "outputs": [],
   "source": [
    "org_df = pd.read_csv(\"..\\data\\smart_store_reviews.csv\")\n",
    "org_df = org_df.sample(frac=1).reset_index(drop=True)\n",
    "new_org_df = org_df.iloc[:1000, :]\n",
    "pos_words = pd.read_table('..\\data\\positive-words.txt', delimiter=\" \")\n",
    "neg_words = pd.read_table('..\\data\\\\negative-words.txt', delimiter=\" \")\n",
    "pos_words_set = set(pos_words['Words'])\n",
    "neg_words_set = set(neg_words['Words'])"
   ]
  },
  {
   "cell_type": "code",
   "execution_count": 18,
   "metadata": {},
   "outputs": [],
   "source": [
    "def add_eval(pos_counter, neg_counter):\n",
    "    if pos_counter > neg_counter:\n",
    "        return 'vocabulary_pos'\n",
    "    elif pos_counter == neg_counter:\n",
    "        return 'vocabulary_neu'\n",
    "    else:\n",
    "        return 'vocabulary_neg'"
   ]
  },
  {
   "cell_type": "code",
   "execution_count": 19,
   "metadata": {},
   "outputs": [
    {
     "name": "stderr",
     "output_type": "stream",
     "text": [
      "100%|██████████| 1000/1000 [00:00<00:00, 24999.28it/s]\n",
      "C:\\Users\\marko.vasilic\\AppData\\Local\\Temp\\ipykernel_916\\940737511.py:12: SettingWithCopyWarning: \n",
      "A value is trying to be set on a copy of a slice from a DataFrame.\n",
      "Try using .loc[row_indexer,col_indexer] = value instead\n",
      "\n",
      "See the caveats in the documentation: https://pandas.pydata.org/pandas-docs/stable/user_guide/indexing.html#returning-a-view-versus-a-copy\n",
      "  new_org_df['voc_eval'] = voc_eval\n"
     ]
    },
    {
     "data": {
      "text/html": [
       "<div>\n",
       "<style scoped>\n",
       "    .dataframe tbody tr th:only-of-type {\n",
       "        vertical-align: middle;\n",
       "    }\n",
       "\n",
       "    .dataframe tbody tr th {\n",
       "        vertical-align: top;\n",
       "    }\n",
       "\n",
       "    .dataframe thead th {\n",
       "        text-align: right;\n",
       "    }\n",
       "</style>\n",
       "<table border=\"1\" class=\"dataframe\">\n",
       "  <thead>\n",
       "    <tr style=\"text-align: right;\">\n",
       "      <th></th>\n",
       "      <th>review_id</th>\n",
       "      <th>product_id</th>\n",
       "      <th>reviewer_id</th>\n",
       "      <th>stars</th>\n",
       "      <th>review_body</th>\n",
       "      <th>review_title</th>\n",
       "      <th>language</th>\n",
       "      <th>product_category</th>\n",
       "      <th>voc_eval</th>\n",
       "    </tr>\n",
       "  </thead>\n",
       "  <tbody>\n",
       "    <tr>\n",
       "      <th>0</th>\n",
       "      <td>en_0384645</td>\n",
       "      <td>product_en_0637944</td>\n",
       "      <td>reviewer_en_0397189</td>\n",
       "      <td>4</td>\n",
       "      <td>These socks have good compression, but I'm not...</td>\n",
       "      <td>does what they are designed for</td>\n",
       "      <td>en</td>\n",
       "      <td>apparel</td>\n",
       "      <td>vocabulary_neg</td>\n",
       "    </tr>\n",
       "    <tr>\n",
       "      <th>1</th>\n",
       "      <td>en_0989120</td>\n",
       "      <td>product_en_0894805</td>\n",
       "      <td>reviewer_en_0936807</td>\n",
       "      <td>1</td>\n",
       "      <td>This product said it was delivered on Nov. 9 t...</td>\n",
       "      <td>Not Received</td>\n",
       "      <td>en</td>\n",
       "      <td>jewelry</td>\n",
       "      <td>vocabulary_neu</td>\n",
       "    </tr>\n",
       "    <tr>\n",
       "      <th>2</th>\n",
       "      <td>en_0474571</td>\n",
       "      <td>product_en_0512133</td>\n",
       "      <td>reviewer_en_0005993</td>\n",
       "      <td>3</td>\n",
       "      <td>I wouldn't buy this again. The quality if fair...</td>\n",
       "      <td>Meh not worth the money or time to assemble</td>\n",
       "      <td>en</td>\n",
       "      <td>home</td>\n",
       "      <td>vocabulary_neu</td>\n",
       "    </tr>\n",
       "    <tr>\n",
       "      <th>3</th>\n",
       "      <td>en_0375355</td>\n",
       "      <td>product_en_0099049</td>\n",
       "      <td>reviewer_en_0558683</td>\n",
       "      <td>4</td>\n",
       "      <td>Our Mastiff loves it and puts it on easily.</td>\n",
       "      <td>Doggie shirt</td>\n",
       "      <td>en</td>\n",
       "      <td>pet_products</td>\n",
       "      <td>vocabulary_pos</td>\n",
       "    </tr>\n",
       "    <tr>\n",
       "      <th>4</th>\n",
       "      <td>en_0200169</td>\n",
       "      <td>product_en_0298055</td>\n",
       "      <td>reviewer_en_0009363</td>\n",
       "      <td>2</td>\n",
       "      <td>My 2.5 year old toddler is a bit small, so the...</td>\n",
       "      <td>Run big</td>\n",
       "      <td>en</td>\n",
       "      <td>apparel</td>\n",
       "      <td>vocabulary_neu</td>\n",
       "    </tr>\n",
       "    <tr>\n",
       "      <th>...</th>\n",
       "      <td>...</td>\n",
       "      <td>...</td>\n",
       "      <td>...</td>\n",
       "      <td>...</td>\n",
       "      <td>...</td>\n",
       "      <td>...</td>\n",
       "      <td>...</td>\n",
       "      <td>...</td>\n",
       "      <td>...</td>\n",
       "    </tr>\n",
       "    <tr>\n",
       "      <th>995</th>\n",
       "      <td>en_0208902</td>\n",
       "      <td>product_en_0466926</td>\n",
       "      <td>reviewer_en_0224417</td>\n",
       "      <td>2</td>\n",
       "      <td>my dog don't like it</td>\n",
       "      <td>Two Stars</td>\n",
       "      <td>en</td>\n",
       "      <td>pet_products</td>\n",
       "      <td>vocabulary_pos</td>\n",
       "    </tr>\n",
       "    <tr>\n",
       "      <th>996</th>\n",
       "      <td>en_0477397</td>\n",
       "      <td>product_en_0164907</td>\n",
       "      <td>reviewer_en_0790188</td>\n",
       "      <td>3</td>\n",
       "      <td>I picked this up specifically for the usb-c co...</td>\n",
       "      <td>usb-c cord doesn't work</td>\n",
       "      <td>en</td>\n",
       "      <td>home</td>\n",
       "      <td>vocabulary_neu</td>\n",
       "    </tr>\n",
       "    <tr>\n",
       "      <th>997</th>\n",
       "      <td>en_0120877</td>\n",
       "      <td>product_en_0327473</td>\n",
       "      <td>reviewer_en_0948340</td>\n",
       "      <td>1</td>\n",
       "      <td>Garbage. This is very poorly made that doesn’t...</td>\n",
       "      <td>Very low quality product even for the low price.</td>\n",
       "      <td>en</td>\n",
       "      <td>home_improvement</td>\n",
       "      <td>vocabulary_neg</td>\n",
       "    </tr>\n",
       "    <tr>\n",
       "      <th>998</th>\n",
       "      <td>en_0542707</td>\n",
       "      <td>product_en_0651972</td>\n",
       "      <td>reviewer_en_0456560</td>\n",
       "      <td>1</td>\n",
       "      <td>The bag with the hoes was wrinkled and not sea...</td>\n",
       "      <td>Received a used item...yuk</td>\n",
       "      <td>en</td>\n",
       "      <td>drugstore</td>\n",
       "      <td>vocabulary_neg</td>\n",
       "    </tr>\n",
       "    <tr>\n",
       "      <th>999</th>\n",
       "      <td>en_0923285</td>\n",
       "      <td>product_en_0003216</td>\n",
       "      <td>reviewer_en_0086723</td>\n",
       "      <td>2</td>\n",
       "      <td>I really enjoyed this product, but once I took...</td>\n",
       "      <td>Battery died completely after a couple of months</td>\n",
       "      <td>en</td>\n",
       "      <td>sports</td>\n",
       "      <td>vocabulary_neu</td>\n",
       "    </tr>\n",
       "  </tbody>\n",
       "</table>\n",
       "<p>1000 rows × 9 columns</p>\n",
       "</div>"
      ],
      "text/plain": [
       "      review_id          product_id          reviewer_id  stars  \\\n",
       "0    en_0384645  product_en_0637944  reviewer_en_0397189      4   \n",
       "1    en_0989120  product_en_0894805  reviewer_en_0936807      1   \n",
       "2    en_0474571  product_en_0512133  reviewer_en_0005993      3   \n",
       "3    en_0375355  product_en_0099049  reviewer_en_0558683      4   \n",
       "4    en_0200169  product_en_0298055  reviewer_en_0009363      2   \n",
       "..          ...                 ...                  ...    ...   \n",
       "995  en_0208902  product_en_0466926  reviewer_en_0224417      2   \n",
       "996  en_0477397  product_en_0164907  reviewer_en_0790188      3   \n",
       "997  en_0120877  product_en_0327473  reviewer_en_0948340      1   \n",
       "998  en_0542707  product_en_0651972  reviewer_en_0456560      1   \n",
       "999  en_0923285  product_en_0003216  reviewer_en_0086723      2   \n",
       "\n",
       "                                           review_body  \\\n",
       "0    These socks have good compression, but I'm not...   \n",
       "1    This product said it was delivered on Nov. 9 t...   \n",
       "2    I wouldn't buy this again. The quality if fair...   \n",
       "3          Our Mastiff loves it and puts it on easily.   \n",
       "4    My 2.5 year old toddler is a bit small, so the...   \n",
       "..                                                 ...   \n",
       "995                               my dog don't like it   \n",
       "996  I picked this up specifically for the usb-c co...   \n",
       "997  Garbage. This is very poorly made that doesn’t...   \n",
       "998  The bag with the hoes was wrinkled and not sea...   \n",
       "999  I really enjoyed this product, but once I took...   \n",
       "\n",
       "                                         review_title language  \\\n",
       "0                     does what they are designed for       en   \n",
       "1                                        Not Received       en   \n",
       "2         Meh not worth the money or time to assemble       en   \n",
       "3                                        Doggie shirt       en   \n",
       "4                                             Run big       en   \n",
       "..                                                ...      ...   \n",
       "995                                         Two Stars       en   \n",
       "996                           usb-c cord doesn't work       en   \n",
       "997  Very low quality product even for the low price.       en   \n",
       "998                        Received a used item...yuk       en   \n",
       "999  Battery died completely after a couple of months       en   \n",
       "\n",
       "     product_category        voc_eval  \n",
       "0             apparel  vocabulary_neg  \n",
       "1             jewelry  vocabulary_neu  \n",
       "2                home  vocabulary_neu  \n",
       "3        pet_products  vocabulary_pos  \n",
       "4             apparel  vocabulary_neu  \n",
       "..                ...             ...  \n",
       "995      pet_products  vocabulary_pos  \n",
       "996              home  vocabulary_neu  \n",
       "997  home_improvement  vocabulary_neg  \n",
       "998         drugstore  vocabulary_neg  \n",
       "999            sports  vocabulary_neu  \n",
       "\n",
       "[1000 rows x 9 columns]"
      ]
     },
     "execution_count": 19,
     "metadata": {},
     "output_type": "execute_result"
    }
   ],
   "source": [
    "voc_eval = []\n",
    "for index, row in tqdm(new_org_df.iterrows(), total=len(new_org_df)):\n",
    "    splits = row['review_body'].split()\n",
    "    pos_counter = 0\n",
    "    neg_counter = 0\n",
    "    for s in splits:\n",
    "        if (s in pos_words_set) == True:\n",
    "            pos_counter += 1\n",
    "        elif (s in neg_words_set) == True:\n",
    "            neg_counter += 1\n",
    "    voc_eval.append(add_eval(pos_counter, neg_counter))\n",
    "new_org_df['voc_eval'] = voc_eval\n",
    "new_org_df\n",
    "        "
   ]
  },
  {
   "cell_type": "code",
   "execution_count": 20,
   "metadata": {},
   "outputs": [
    {
     "name": "stderr",
     "output_type": "stream",
     "text": [
      "100%|██████████| 1000/1000 [00:00<00:00, 31221.79it/s]\n",
      "C:\\Users\\marko.vasilic\\AppData\\Local\\Temp\\ipykernel_916\\2385608508.py:4: SettingWithCopyWarning: \n",
      "A value is trying to be set on a copy of a slice from a DataFrame.\n",
      "Try using .loc[row_indexer,col_indexer] = value instead\n",
      "\n",
      "See the caveats in the documentation: https://pandas.pydata.org/pandas-docs/stable/user_guide/indexing.html#returning-a-view-versus-a-copy\n",
      "  new_org_df['voc_score'] = voc_score\n"
     ]
    },
    {
     "data": {
      "text/plain": [
       "0.46"
      ]
     },
     "execution_count": 20,
     "metadata": {},
     "output_type": "execute_result"
    }
   ],
   "source": [
    "voc_score = []\n",
    "for index, row in tqdm(new_org_df.iterrows(), total=len(new_org_df)):\n",
    "    voc_score.append(check_sentiment(row['voc_eval'][-3:], row['stars']))\n",
    "new_org_df['voc_score'] = voc_score\n",
    "sum(voc_score)/len(new_org_df)"
   ]
  }
 ],
 "metadata": {
  "kernelspec": {
   "display_name": "Python 3.9.12 64-bit",
   "language": "python",
   "name": "python3"
  },
  "language_info": {
   "codemirror_mode": {
    "name": "ipython",
    "version": 3
   },
   "file_extension": ".py",
   "mimetype": "text/x-python",
   "name": "python",
   "nbconvert_exporter": "python",
   "pygments_lexer": "ipython3",
   "version": "3.9.12"
  },
  "orig_nbformat": 4,
  "vscode": {
   "interpreter": {
    "hash": "7dee59364fa1eaadf1bea23478f28c2088062cd334c11dc706b3988cb0ea7873"
   }
  }
 },
 "nbformat": 4,
 "nbformat_minor": 2
}
