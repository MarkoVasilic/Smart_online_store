{
 "cells": [
  {
   "cell_type": "markdown",
   "metadata": {},
   "source": [
    "## Import of libraries"
   ]
  },
  {
   "cell_type": "code",
   "execution_count": 2,
   "metadata": {},
   "outputs": [],
   "source": [
    "import pandas as pd\n",
    "import numpy as np\n",
    "import matplotlib.pyplot as plt\n",
    "import seaborn as sns\n",
    "import re\n",
    "import nltk\n",
    "import sklearn\n",
    "import csv\n",
    "sns.set_style(\"darkgrid\")"
   ]
  },
  {
   "cell_type": "markdown",
   "metadata": {},
   "source": [
    "## Data Preparation and Cleaning"
   ]
  },
  {
   "cell_type": "markdown",
   "metadata": {},
   "source": [
    "### Loading data"
   ]
  },
  {
   "cell_type": "code",
   "execution_count": 3,
   "metadata": {},
   "outputs": [],
   "source": [
    "df = pd.read_csv(\"..\\data\\smart_store_reviews.csv\")\n"
   ]
  },
  {
   "cell_type": "markdown",
   "metadata": {},
   "source": [
    "### First 5 rows"
   ]
  },
  {
   "cell_type": "code",
   "execution_count": 4,
   "metadata": {},
   "outputs": [
    {
     "data": {
      "text/html": [
       "<div>\n",
       "<style scoped>\n",
       "    .dataframe tbody tr th:only-of-type {\n",
       "        vertical-align: middle;\n",
       "    }\n",
       "\n",
       "    .dataframe tbody tr th {\n",
       "        vertical-align: top;\n",
       "    }\n",
       "\n",
       "    .dataframe thead th {\n",
       "        text-align: right;\n",
       "    }\n",
       "</style>\n",
       "<table border=\"1\" class=\"dataframe\">\n",
       "  <thead>\n",
       "    <tr style=\"text-align: right;\">\n",
       "      <th></th>\n",
       "      <th>review_id</th>\n",
       "      <th>product_id</th>\n",
       "      <th>reviewer_id</th>\n",
       "      <th>stars</th>\n",
       "      <th>review_body</th>\n",
       "      <th>review_title</th>\n",
       "      <th>language</th>\n",
       "      <th>product_category</th>\n",
       "    </tr>\n",
       "  </thead>\n",
       "  <tbody>\n",
       "    <tr>\n",
       "      <th>0</th>\n",
       "      <td>en_0199937</td>\n",
       "      <td>product_en_0902516</td>\n",
       "      <td>reviewer_en_0097389</td>\n",
       "      <td>1</td>\n",
       "      <td>These are AWFUL. They are see through, the fab...</td>\n",
       "      <td>Don’t waste your time!</td>\n",
       "      <td>en</td>\n",
       "      <td>apparel</td>\n",
       "    </tr>\n",
       "    <tr>\n",
       "      <th>1</th>\n",
       "      <td>en_0200890</td>\n",
       "      <td>product_en_0888882</td>\n",
       "      <td>reviewer_en_0702203</td>\n",
       "      <td>1</td>\n",
       "      <td>No pressure, not a great hose for anything!!</td>\n",
       "      <td>Waste of Money!! No pressure, not good for fil...</td>\n",
       "      <td>en</td>\n",
       "      <td>lawn_and_garden</td>\n",
       "    </tr>\n",
       "    <tr>\n",
       "      <th>2</th>\n",
       "      <td>en_0949818</td>\n",
       "      <td>product_en_0969532</td>\n",
       "      <td>reviewer_en_0662404</td>\n",
       "      <td>1</td>\n",
       "      <td>I ordered 11 or 12 cds...will NEVER order them...</td>\n",
       "      <td>They skip and have very very very poor sound q...</td>\n",
       "      <td>en</td>\n",
       "      <td>other</td>\n",
       "    </tr>\n",
       "    <tr>\n",
       "      <th>3</th>\n",
       "      <td>en_0681307</td>\n",
       "      <td>product_en_0851291</td>\n",
       "      <td>reviewer_en_0843843</td>\n",
       "      <td>1</td>\n",
       "      <td>too bunchy inside of shoes or boots, did not w...</td>\n",
       "      <td>awkward and uncomfortable; do not work</td>\n",
       "      <td>en</td>\n",
       "      <td>other</td>\n",
       "    </tr>\n",
       "    <tr>\n",
       "      <th>4</th>\n",
       "      <td>en_0846533</td>\n",
       "      <td>product_en_0633896</td>\n",
       "      <td>reviewer_en_0315301</td>\n",
       "      <td>1</td>\n",
       "      <td>Took a dump quit working after 3 weeks</td>\n",
       "      <td>Poor quality apparently.</td>\n",
       "      <td>en</td>\n",
       "      <td>wireless</td>\n",
       "    </tr>\n",
       "  </tbody>\n",
       "</table>\n",
       "</div>"
      ],
      "text/plain": [
       "    review_id          product_id          reviewer_id  stars  \\\n",
       "0  en_0199937  product_en_0902516  reviewer_en_0097389      1   \n",
       "1  en_0200890  product_en_0888882  reviewer_en_0702203      1   \n",
       "2  en_0949818  product_en_0969532  reviewer_en_0662404      1   \n",
       "3  en_0681307  product_en_0851291  reviewer_en_0843843      1   \n",
       "4  en_0846533  product_en_0633896  reviewer_en_0315301      1   \n",
       "\n",
       "                                         review_body  \\\n",
       "0  These are AWFUL. They are see through, the fab...   \n",
       "1       No pressure, not a great hose for anything!!   \n",
       "2  I ordered 11 or 12 cds...will NEVER order them...   \n",
       "3  too bunchy inside of shoes or boots, did not w...   \n",
       "4             Took a dump quit working after 3 weeks   \n",
       "\n",
       "                                        review_title language product_category  \n",
       "0                             Don’t waste your time!       en          apparel  \n",
       "1  Waste of Money!! No pressure, not good for fil...       en  lawn_and_garden  \n",
       "2  They skip and have very very very poor sound q...       en            other  \n",
       "3             awkward and uncomfortable; do not work       en            other  \n",
       "4                           Poor quality apparently.       en         wireless  "
      ]
     },
     "execution_count": 4,
     "metadata": {},
     "output_type": "execute_result"
    }
   ],
   "source": [
    "df.head()"
   ]
  },
  {
   "cell_type": "markdown",
   "metadata": {},
   "source": [
    "### Columns and their types"
   ]
  },
  {
   "cell_type": "code",
   "execution_count": 5,
   "metadata": {},
   "outputs": [
    {
     "name": "stdout",
     "output_type": "stream",
     "text": [
      "<class 'pandas.core.frame.DataFrame'>\n",
      "RangeIndex: 210000 entries, 0 to 209999\n",
      "Data columns (total 8 columns):\n",
      " #   Column            Non-Null Count   Dtype \n",
      "---  ------            --------------   ----- \n",
      " 0   review_id         210000 non-null  object\n",
      " 1   product_id        210000 non-null  object\n",
      " 2   reviewer_id       210000 non-null  object\n",
      " 3   stars             210000 non-null  int64 \n",
      " 4   review_body       210000 non-null  object\n",
      " 5   review_title      209977 non-null  object\n",
      " 6   language          210000 non-null  object\n",
      " 7   product_category  210000 non-null  object\n",
      "dtypes: int64(1), object(7)\n",
      "memory usage: 12.8+ MB\n"
     ]
    }
   ],
   "source": [
    "df.info()"
   ]
  },
  {
   "cell_type": "code",
   "execution_count": 6,
   "metadata": {},
   "outputs": [
    {
     "data": {
      "text/plain": [
       "(210000, 8)"
      ]
     },
     "execution_count": 6,
     "metadata": {},
     "output_type": "execute_result"
    }
   ],
   "source": [
    "df.shape"
   ]
  },
  {
   "cell_type": "markdown",
   "metadata": {},
   "source": [
    "### Basic info for every column"
   ]
  },
  {
   "cell_type": "code",
   "execution_count": 7,
   "metadata": {},
   "outputs": [
    {
     "data": {
      "text/html": [
       "<div>\n",
       "<style scoped>\n",
       "    .dataframe tbody tr th:only-of-type {\n",
       "        vertical-align: middle;\n",
       "    }\n",
       "\n",
       "    .dataframe tbody tr th {\n",
       "        vertical-align: top;\n",
       "    }\n",
       "\n",
       "    .dataframe thead th {\n",
       "        text-align: right;\n",
       "    }\n",
       "</style>\n",
       "<table border=\"1\" class=\"dataframe\">\n",
       "  <thead>\n",
       "    <tr style=\"text-align: right;\">\n",
       "      <th></th>\n",
       "      <th>review_id</th>\n",
       "      <th>product_id</th>\n",
       "      <th>reviewer_id</th>\n",
       "      <th>stars</th>\n",
       "      <th>review_body</th>\n",
       "      <th>review_title</th>\n",
       "      <th>language</th>\n",
       "      <th>product_category</th>\n",
       "    </tr>\n",
       "  </thead>\n",
       "  <tbody>\n",
       "    <tr>\n",
       "      <th>count</th>\n",
       "      <td>210000</td>\n",
       "      <td>210000</td>\n",
       "      <td>210000</td>\n",
       "      <td>210000.000000</td>\n",
       "      <td>210000</td>\n",
       "      <td>209977</td>\n",
       "      <td>210000</td>\n",
       "      <td>210000</td>\n",
       "    </tr>\n",
       "    <tr>\n",
       "      <th>unique</th>\n",
       "      <td>210000</td>\n",
       "      <td>194104</td>\n",
       "      <td>206410</td>\n",
       "      <td>NaN</td>\n",
       "      <td>209393</td>\n",
       "      <td>143874</td>\n",
       "      <td>1</td>\n",
       "      <td>31</td>\n",
       "    </tr>\n",
       "    <tr>\n",
       "      <th>top</th>\n",
       "      <td>en_0199937</td>\n",
       "      <td>product_en_0184780</td>\n",
       "      <td>reviewer_en_0857640</td>\n",
       "      <td>NaN</td>\n",
       "      <td>Smaller than expected</td>\n",
       "      <td>Three Stars</td>\n",
       "      <td>en</td>\n",
       "      <td>home</td>\n",
       "    </tr>\n",
       "    <tr>\n",
       "      <th>freq</th>\n",
       "      <td>1</td>\n",
       "      <td>6</td>\n",
       "      <td>5</td>\n",
       "      <td>NaN</td>\n",
       "      <td>29</td>\n",
       "      <td>4366</td>\n",
       "      <td>210000</td>\n",
       "      <td>18509</td>\n",
       "    </tr>\n",
       "    <tr>\n",
       "      <th>mean</th>\n",
       "      <td>NaN</td>\n",
       "      <td>NaN</td>\n",
       "      <td>NaN</td>\n",
       "      <td>3.000000</td>\n",
       "      <td>NaN</td>\n",
       "      <td>NaN</td>\n",
       "      <td>NaN</td>\n",
       "      <td>NaN</td>\n",
       "    </tr>\n",
       "    <tr>\n",
       "      <th>std</th>\n",
       "      <td>NaN</td>\n",
       "      <td>NaN</td>\n",
       "      <td>NaN</td>\n",
       "      <td>1.414217</td>\n",
       "      <td>NaN</td>\n",
       "      <td>NaN</td>\n",
       "      <td>NaN</td>\n",
       "      <td>NaN</td>\n",
       "    </tr>\n",
       "    <tr>\n",
       "      <th>min</th>\n",
       "      <td>NaN</td>\n",
       "      <td>NaN</td>\n",
       "      <td>NaN</td>\n",
       "      <td>1.000000</td>\n",
       "      <td>NaN</td>\n",
       "      <td>NaN</td>\n",
       "      <td>NaN</td>\n",
       "      <td>NaN</td>\n",
       "    </tr>\n",
       "    <tr>\n",
       "      <th>25%</th>\n",
       "      <td>NaN</td>\n",
       "      <td>NaN</td>\n",
       "      <td>NaN</td>\n",
       "      <td>2.000000</td>\n",
       "      <td>NaN</td>\n",
       "      <td>NaN</td>\n",
       "      <td>NaN</td>\n",
       "      <td>NaN</td>\n",
       "    </tr>\n",
       "    <tr>\n",
       "      <th>50%</th>\n",
       "      <td>NaN</td>\n",
       "      <td>NaN</td>\n",
       "      <td>NaN</td>\n",
       "      <td>3.000000</td>\n",
       "      <td>NaN</td>\n",
       "      <td>NaN</td>\n",
       "      <td>NaN</td>\n",
       "      <td>NaN</td>\n",
       "    </tr>\n",
       "    <tr>\n",
       "      <th>75%</th>\n",
       "      <td>NaN</td>\n",
       "      <td>NaN</td>\n",
       "      <td>NaN</td>\n",
       "      <td>4.000000</td>\n",
       "      <td>NaN</td>\n",
       "      <td>NaN</td>\n",
       "      <td>NaN</td>\n",
       "      <td>NaN</td>\n",
       "    </tr>\n",
       "    <tr>\n",
       "      <th>max</th>\n",
       "      <td>NaN</td>\n",
       "      <td>NaN</td>\n",
       "      <td>NaN</td>\n",
       "      <td>5.000000</td>\n",
       "      <td>NaN</td>\n",
       "      <td>NaN</td>\n",
       "      <td>NaN</td>\n",
       "      <td>NaN</td>\n",
       "    </tr>\n",
       "  </tbody>\n",
       "</table>\n",
       "</div>"
      ],
      "text/plain": [
       "         review_id          product_id          reviewer_id          stars  \\\n",
       "count       210000              210000               210000  210000.000000   \n",
       "unique      210000              194104               206410            NaN   \n",
       "top     en_0199937  product_en_0184780  reviewer_en_0857640            NaN   \n",
       "freq             1                   6                    5            NaN   \n",
       "mean           NaN                 NaN                  NaN       3.000000   \n",
       "std            NaN                 NaN                  NaN       1.414217   \n",
       "min            NaN                 NaN                  NaN       1.000000   \n",
       "25%            NaN                 NaN                  NaN       2.000000   \n",
       "50%            NaN                 NaN                  NaN       3.000000   \n",
       "75%            NaN                 NaN                  NaN       4.000000   \n",
       "max            NaN                 NaN                  NaN       5.000000   \n",
       "\n",
       "                  review_body review_title language product_category  \n",
       "count                  210000       209977   210000           210000  \n",
       "unique                 209393       143874        1               31  \n",
       "top     Smaller than expected  Three Stars       en             home  \n",
       "freq                       29         4366   210000            18509  \n",
       "mean                      NaN          NaN      NaN              NaN  \n",
       "std                       NaN          NaN      NaN              NaN  \n",
       "min                       NaN          NaN      NaN              NaN  \n",
       "25%                       NaN          NaN      NaN              NaN  \n",
       "50%                       NaN          NaN      NaN              NaN  \n",
       "75%                       NaN          NaN      NaN              NaN  \n",
       "max                       NaN          NaN      NaN              NaN  "
      ]
     },
     "execution_count": 7,
     "metadata": {},
     "output_type": "execute_result"
    }
   ],
   "source": [
    "df.describe(include='all')"
   ]
  },
  {
   "cell_type": "code",
   "execution_count": 8,
   "metadata": {},
   "outputs": [
    {
     "name": "stdout",
     "output_type": "stream",
     "text": [
      "3.0\n"
     ]
    }
   ],
   "source": [
    "print(df.stars.median())"
   ]
  },
  {
   "cell_type": "markdown",
   "metadata": {},
   "source": [
    "### Number of null values in each column"
   ]
  },
  {
   "cell_type": "code",
   "execution_count": 9,
   "metadata": {},
   "outputs": [
    {
     "data": {
      "text/plain": [
       "review_title        23\n",
       "review_id            0\n",
       "product_id           0\n",
       "reviewer_id          0\n",
       "stars                0\n",
       "review_body          0\n",
       "language             0\n",
       "product_category     0\n",
       "dtype: int64"
      ]
     },
     "execution_count": 9,
     "metadata": {},
     "output_type": "execute_result"
    }
   ],
   "source": [
    "missing_count = df.isna().sum().sort_values(ascending=False)\n",
    "missing_count"
   ]
  },
  {
   "cell_type": "markdown",
   "metadata": {},
   "source": [
    "### Rows with null values"
   ]
  },
  {
   "cell_type": "code",
   "execution_count": 10,
   "metadata": {},
   "outputs": [
    {
     "data": {
      "text/html": [
       "<div>\n",
       "<style scoped>\n",
       "    .dataframe tbody tr th:only-of-type {\n",
       "        vertical-align: middle;\n",
       "    }\n",
       "\n",
       "    .dataframe tbody tr th {\n",
       "        vertical-align: top;\n",
       "    }\n",
       "\n",
       "    .dataframe thead th {\n",
       "        text-align: right;\n",
       "    }\n",
       "</style>\n",
       "<table border=\"1\" class=\"dataframe\">\n",
       "  <thead>\n",
       "    <tr style=\"text-align: right;\">\n",
       "      <th></th>\n",
       "      <th>review_id</th>\n",
       "      <th>product_id</th>\n",
       "      <th>reviewer_id</th>\n",
       "      <th>stars</th>\n",
       "      <th>review_body</th>\n",
       "      <th>review_title</th>\n",
       "      <th>language</th>\n",
       "      <th>product_category</th>\n",
       "    </tr>\n",
       "  </thead>\n",
       "  <tbody>\n",
       "    <tr>\n",
       "      <th>11328</th>\n",
       "      <td>en_0363452</td>\n",
       "      <td>product_en_0991504</td>\n",
       "      <td>reviewer_en_0350541</td>\n",
       "      <td>1</td>\n",
       "      <td>Garbage!!!!!! Do not buy!!!!!! Very bad recept...</td>\n",
       "      <td>NaN</td>\n",
       "      <td>en</td>\n",
       "      <td>electronics</td>\n",
       "    </tr>\n",
       "    <tr>\n",
       "      <th>24676</th>\n",
       "      <td>en_0584273</td>\n",
       "      <td>product_en_0593276</td>\n",
       "      <td>reviewer_en_0270470</td>\n",
       "      <td>1</td>\n",
       "      <td>I never received your product.</td>\n",
       "      <td>NaN</td>\n",
       "      <td>en</td>\n",
       "      <td>camera</td>\n",
       "    </tr>\n",
       "    <tr>\n",
       "      <th>32717</th>\n",
       "      <td>en_0672094</td>\n",
       "      <td>product_en_0859343</td>\n",
       "      <td>reviewer_en_0987098</td>\n",
       "      <td>1</td>\n",
       "      <td>Birds just don't seem to like this brand. What...</td>\n",
       "      <td>NaN</td>\n",
       "      <td>en</td>\n",
       "      <td>lawn_and_garden</td>\n",
       "    </tr>\n",
       "    <tr>\n",
       "      <th>44799</th>\n",
       "      <td>en_0342117</td>\n",
       "      <td>product_en_0720417</td>\n",
       "      <td>reviewer_en_0712502</td>\n",
       "      <td>2</td>\n",
       "      <td>Nice modern farmhouse touch to decor. Color is...</td>\n",
       "      <td>NaN</td>\n",
       "      <td>en</td>\n",
       "      <td>furniture</td>\n",
       "    </tr>\n",
       "    <tr>\n",
       "      <th>63134</th>\n",
       "      <td>en_0991985</td>\n",
       "      <td>product_en_0392192</td>\n",
       "      <td>reviewer_en_0031515</td>\n",
       "      <td>2</td>\n",
       "      <td>I didn’t like these type of cups</td>\n",
       "      <td>NaN</td>\n",
       "      <td>en</td>\n",
       "      <td>toy</td>\n",
       "    </tr>\n",
       "    <tr>\n",
       "      <th>80392</th>\n",
       "      <td>en_0684361</td>\n",
       "      <td>product_en_0827066</td>\n",
       "      <td>reviewer_en_0375788</td>\n",
       "      <td>2</td>\n",
       "      <td>They r nice but they don’t stay in the ears</td>\n",
       "      <td>NaN</td>\n",
       "      <td>en</td>\n",
       "      <td>wireless</td>\n",
       "    </tr>\n",
       "    <tr>\n",
       "      <th>87901</th>\n",
       "      <td>en_0329950</td>\n",
       "      <td>product_en_0701608</td>\n",
       "      <td>reviewer_en_0821370</td>\n",
       "      <td>3</td>\n",
       "      <td>It was too much to my liking. I had to stuff i...</td>\n",
       "      <td>NaN</td>\n",
       "      <td>en</td>\n",
       "      <td>luggage</td>\n",
       "    </tr>\n",
       "    <tr>\n",
       "      <th>89371</th>\n",
       "      <td>en_0091490</td>\n",
       "      <td>product_en_0050197</td>\n",
       "      <td>reviewer_en_0517779</td>\n",
       "      <td>3</td>\n",
       "      <td>shoelaces were too short. need more length.</td>\n",
       "      <td>NaN</td>\n",
       "      <td>en</td>\n",
       "      <td>shoes</td>\n",
       "    </tr>\n",
       "    <tr>\n",
       "      <th>95785</th>\n",
       "      <td>en_0184651</td>\n",
       "      <td>product_en_0214004</td>\n",
       "      <td>reviewer_en_0065413</td>\n",
       "      <td>3</td>\n",
       "      <td>Not loving it to much..its ok</td>\n",
       "      <td>NaN</td>\n",
       "      <td>en</td>\n",
       "      <td>automotive</td>\n",
       "    </tr>\n",
       "    <tr>\n",
       "      <th>102315</th>\n",
       "      <td>en_0216864</td>\n",
       "      <td>product_en_0116972</td>\n",
       "      <td>reviewer_en_0323091</td>\n",
       "      <td>3</td>\n",
       "      <td>I don't have a review for this product as I ha...</td>\n",
       "      <td>NaN</td>\n",
       "      <td>en</td>\n",
       "      <td>video_games</td>\n",
       "    </tr>\n",
       "    <tr>\n",
       "      <th>105008</th>\n",
       "      <td>en_0678684</td>\n",
       "      <td>product_en_0531413</td>\n",
       "      <td>reviewer_en_0033052</td>\n",
       "      <td>3</td>\n",
       "      <td>Easy to assemble just be aware that when screw...</td>\n",
       "      <td>NaN</td>\n",
       "      <td>en</td>\n",
       "      <td>furniture</td>\n",
       "    </tr>\n",
       "    <tr>\n",
       "      <th>105305</th>\n",
       "      <td>en_0529209</td>\n",
       "      <td>product_en_0127048</td>\n",
       "      <td>reviewer_en_0818472</td>\n",
       "      <td>3</td>\n",
       "      <td>Not tasting very well</td>\n",
       "      <td>NaN</td>\n",
       "      <td>en</td>\n",
       "      <td>other</td>\n",
       "    </tr>\n",
       "    <tr>\n",
       "      <th>114505</th>\n",
       "      <td>en_0022107</td>\n",
       "      <td>product_en_0821360</td>\n",
       "      <td>reviewer_en_0831855</td>\n",
       "      <td>3</td>\n",
       "      <td>It worked but was not useful to me</td>\n",
       "      <td>NaN</td>\n",
       "      <td>en</td>\n",
       "      <td>sports</td>\n",
       "    </tr>\n",
       "    <tr>\n",
       "      <th>128503</th>\n",
       "      <td>en_0285627</td>\n",
       "      <td>product_en_0335704</td>\n",
       "      <td>reviewer_en_0540700</td>\n",
       "      <td>4</td>\n",
       "      <td>It was nice But they put a lowercase M instead...</td>\n",
       "      <td>NaN</td>\n",
       "      <td>en</td>\n",
       "      <td>other</td>\n",
       "    </tr>\n",
       "    <tr>\n",
       "      <th>130182</th>\n",
       "      <td>en_0149512</td>\n",
       "      <td>product_en_0499638</td>\n",
       "      <td>reviewer_en_0282664</td>\n",
       "      <td>4</td>\n",
       "      <td>I would like to upgrade, to a yearly subscript...</td>\n",
       "      <td>NaN</td>\n",
       "      <td>en</td>\n",
       "      <td>other</td>\n",
       "    </tr>\n",
       "    <tr>\n",
       "      <th>169659</th>\n",
       "      <td>en_0063369</td>\n",
       "      <td>product_en_0635726</td>\n",
       "      <td>reviewer_en_0081234</td>\n",
       "      <td>5</td>\n",
       "      <td>Product is what I needed.</td>\n",
       "      <td>NaN</td>\n",
       "      <td>en</td>\n",
       "      <td>drugstore</td>\n",
       "    </tr>\n",
       "    <tr>\n",
       "      <th>174932</th>\n",
       "      <td>en_0978799</td>\n",
       "      <td>product_en_0138960</td>\n",
       "      <td>reviewer_en_0354304</td>\n",
       "      <td>5</td>\n",
       "      <td>Very Happy with purchase</td>\n",
       "      <td>NaN</td>\n",
       "      <td>en</td>\n",
       "      <td>wireless</td>\n",
       "    </tr>\n",
       "    <tr>\n",
       "      <th>176013</th>\n",
       "      <td>en_0535854</td>\n",
       "      <td>product_en_0106506</td>\n",
       "      <td>reviewer_en_0772876</td>\n",
       "      <td>5</td>\n",
       "      <td>Fit perfectly for older model facuet. Cannot f...</td>\n",
       "      <td>NaN</td>\n",
       "      <td>en</td>\n",
       "      <td>home_improvement</td>\n",
       "    </tr>\n",
       "    <tr>\n",
       "      <th>184746</th>\n",
       "      <td>en_0994870</td>\n",
       "      <td>product_en_0800365</td>\n",
       "      <td>reviewer_en_0507105</td>\n",
       "      <td>5</td>\n",
       "      <td>I used to watch a novel!</td>\n",
       "      <td>NaN</td>\n",
       "      <td>en</td>\n",
       "      <td>other</td>\n",
       "    </tr>\n",
       "    <tr>\n",
       "      <th>191479</th>\n",
       "      <td>en_0441023</td>\n",
       "      <td>product_en_0580596</td>\n",
       "      <td>reviewer_en_0108372</td>\n",
       "      <td>5</td>\n",
       "      <td>My husband love this cover for his ipad,</td>\n",
       "      <td>NaN</td>\n",
       "      <td>en</td>\n",
       "      <td>pc</td>\n",
       "    </tr>\n",
       "    <tr>\n",
       "      <th>194614</th>\n",
       "      <td>en_0958193</td>\n",
       "      <td>product_en_0927553</td>\n",
       "      <td>reviewer_en_0358321</td>\n",
       "      <td>5</td>\n",
       "      <td>Watch band and case works great, mine cracked ...</td>\n",
       "      <td>NaN</td>\n",
       "      <td>en</td>\n",
       "      <td>wireless</td>\n",
       "    </tr>\n",
       "    <tr>\n",
       "      <th>195336</th>\n",
       "      <td>en_0523164</td>\n",
       "      <td>product_en_0595195</td>\n",
       "      <td>reviewer_en_0533312</td>\n",
       "      <td>5</td>\n",
       "      <td>It was very nice!! Loving it!</td>\n",
       "      <td>NaN</td>\n",
       "      <td>en</td>\n",
       "      <td>wireless</td>\n",
       "    </tr>\n",
       "    <tr>\n",
       "      <th>204013</th>\n",
       "      <td>en_0637151</td>\n",
       "      <td>product_en_0447835</td>\n",
       "      <td>reviewer_en_0128580</td>\n",
       "      <td>5</td>\n",
       "      <td>GOOD READ EASY AND CONVENIENT TO KEEP UP WITH ...</td>\n",
       "      <td>NaN</td>\n",
       "      <td>en</td>\n",
       "      <td>other</td>\n",
       "    </tr>\n",
       "  </tbody>\n",
       "</table>\n",
       "</div>"
      ],
      "text/plain": [
       "         review_id          product_id          reviewer_id  stars  \\\n",
       "11328   en_0363452  product_en_0991504  reviewer_en_0350541      1   \n",
       "24676   en_0584273  product_en_0593276  reviewer_en_0270470      1   \n",
       "32717   en_0672094  product_en_0859343  reviewer_en_0987098      1   \n",
       "44799   en_0342117  product_en_0720417  reviewer_en_0712502      2   \n",
       "63134   en_0991985  product_en_0392192  reviewer_en_0031515      2   \n",
       "80392   en_0684361  product_en_0827066  reviewer_en_0375788      2   \n",
       "87901   en_0329950  product_en_0701608  reviewer_en_0821370      3   \n",
       "89371   en_0091490  product_en_0050197  reviewer_en_0517779      3   \n",
       "95785   en_0184651  product_en_0214004  reviewer_en_0065413      3   \n",
       "102315  en_0216864  product_en_0116972  reviewer_en_0323091      3   \n",
       "105008  en_0678684  product_en_0531413  reviewer_en_0033052      3   \n",
       "105305  en_0529209  product_en_0127048  reviewer_en_0818472      3   \n",
       "114505  en_0022107  product_en_0821360  reviewer_en_0831855      3   \n",
       "128503  en_0285627  product_en_0335704  reviewer_en_0540700      4   \n",
       "130182  en_0149512  product_en_0499638  reviewer_en_0282664      4   \n",
       "169659  en_0063369  product_en_0635726  reviewer_en_0081234      5   \n",
       "174932  en_0978799  product_en_0138960  reviewer_en_0354304      5   \n",
       "176013  en_0535854  product_en_0106506  reviewer_en_0772876      5   \n",
       "184746  en_0994870  product_en_0800365  reviewer_en_0507105      5   \n",
       "191479  en_0441023  product_en_0580596  reviewer_en_0108372      5   \n",
       "194614  en_0958193  product_en_0927553  reviewer_en_0358321      5   \n",
       "195336  en_0523164  product_en_0595195  reviewer_en_0533312      5   \n",
       "204013  en_0637151  product_en_0447835  reviewer_en_0128580      5   \n",
       "\n",
       "                                              review_body review_title  \\\n",
       "11328   Garbage!!!!!! Do not buy!!!!!! Very bad recept...          NaN   \n",
       "24676                      I never received your product.          NaN   \n",
       "32717   Birds just don't seem to like this brand. What...          NaN   \n",
       "44799   Nice modern farmhouse touch to decor. Color is...          NaN   \n",
       "63134                    I didn’t like these type of cups          NaN   \n",
       "80392         They r nice but they don’t stay in the ears          NaN   \n",
       "87901   It was too much to my liking. I had to stuff i...          NaN   \n",
       "89371         shoelaces were too short. need more length.          NaN   \n",
       "95785                       Not loving it to much..its ok          NaN   \n",
       "102315  I don't have a review for this product as I ha...          NaN   \n",
       "105008  Easy to assemble just be aware that when screw...          NaN   \n",
       "105305                              Not tasting very well          NaN   \n",
       "114505                 It worked but was not useful to me          NaN   \n",
       "128503  It was nice But they put a lowercase M instead...          NaN   \n",
       "130182  I would like to upgrade, to a yearly subscript...          NaN   \n",
       "169659                          Product is what I needed.          NaN   \n",
       "174932                           Very Happy with purchase          NaN   \n",
       "176013  Fit perfectly for older model facuet. Cannot f...          NaN   \n",
       "184746                           I used to watch a novel!          NaN   \n",
       "191479           My husband love this cover for his ipad,          NaN   \n",
       "194614  Watch band and case works great, mine cracked ...          NaN   \n",
       "195336                      It was very nice!! Loving it!          NaN   \n",
       "204013  GOOD READ EASY AND CONVENIENT TO KEEP UP WITH ...          NaN   \n",
       "\n",
       "       language  product_category  \n",
       "11328        en       electronics  \n",
       "24676        en            camera  \n",
       "32717        en   lawn_and_garden  \n",
       "44799        en         furniture  \n",
       "63134        en               toy  \n",
       "80392        en          wireless  \n",
       "87901        en           luggage  \n",
       "89371        en             shoes  \n",
       "95785        en        automotive  \n",
       "102315       en       video_games  \n",
       "105008       en         furniture  \n",
       "105305       en             other  \n",
       "114505       en            sports  \n",
       "128503       en             other  \n",
       "130182       en             other  \n",
       "169659       en         drugstore  \n",
       "174932       en          wireless  \n",
       "176013       en  home_improvement  \n",
       "184746       en             other  \n",
       "191479       en                pc  \n",
       "194614       en          wireless  \n",
       "195336       en          wireless  \n",
       "204013       en             other  "
      ]
     },
     "execution_count": 10,
     "metadata": {},
     "output_type": "execute_result"
    }
   ],
   "source": [
    "missing = df[df.isnull().any(axis=1)]\n",
    "missing"
   ]
  },
  {
   "cell_type": "markdown",
   "metadata": {},
   "source": [
    "### Number of duplicate rows"
   ]
  },
  {
   "cell_type": "code",
   "execution_count": 11,
   "metadata": {},
   "outputs": [
    {
     "name": "stdout",
     "output_type": "stream",
     "text": [
      "number of duplicate rows:  (0, 8)\n"
     ]
    }
   ],
   "source": [
    "duplicate_rows_df = df[df.duplicated()]\n",
    "print(\"number of duplicate rows: \", duplicate_rows_df.shape)"
   ]
  },
  {
   "cell_type": "markdown",
   "metadata": {},
   "source": [
    "## Exploratory Analysis and Visualization"
   ]
  },
  {
   "cell_type": "code",
   "execution_count": 12,
   "metadata": {},
   "outputs": [
    {
     "data": {
      "text/plain": [
       "Index(['review_id', 'product_id', 'reviewer_id', 'stars', 'review_body',\n",
       "       'review_title', 'language', 'product_category'],\n",
       "      dtype='object')"
      ]
     },
     "execution_count": 12,
     "metadata": {},
     "output_type": "execute_result"
    }
   ],
   "source": [
    "df.columns"
   ]
  },
  {
   "cell_type": "markdown",
   "metadata": {},
   "source": [
    "### Languages"
   ]
  },
  {
   "cell_type": "markdown",
   "metadata": {},
   "source": [
    "> Number of unique languages"
   ]
  },
  {
   "cell_type": "code",
   "execution_count": 13,
   "metadata": {},
   "outputs": [
    {
     "data": {
      "text/plain": [
       "1"
      ]
     },
     "execution_count": 13,
     "metadata": {},
     "output_type": "execute_result"
    }
   ],
   "source": [
    "languages = df.language.unique()\n",
    "len(languages)"
   ]
  },
  {
   "cell_type": "markdown",
   "metadata": {},
   "source": [
    "### Product category"
   ]
  },
  {
   "cell_type": "markdown",
   "metadata": {},
   "source": [
    "> Number of uniqe categories"
   ]
  },
  {
   "cell_type": "code",
   "execution_count": 14,
   "metadata": {},
   "outputs": [
    {
     "data": {
      "text/plain": [
       "31"
      ]
     },
     "execution_count": 14,
     "metadata": {},
     "output_type": "execute_result"
    }
   ],
   "source": [
    "categories = df.product_category.unique()\n",
    "len(categories)"
   ]
  },
  {
   "cell_type": "markdown",
   "metadata": {},
   "source": [
    "> Count of reviews for each category"
   ]
  },
  {
   "cell_type": "code",
   "execution_count": 15,
   "metadata": {},
   "outputs": [
    {
     "data": {
      "text/plain": [
       "home                        18509\n",
       "apparel                     16742\n",
       "wireless                    16459\n",
       "other                       14104\n",
       "beauty                      12736\n",
       "drugstore                   12335\n",
       "kitchen                     10902\n",
       "toy                          9203\n",
       "sports                       8719\n",
       "automotive                   7871\n",
       "lawn_and_garden              7695\n",
       "home_improvement             7513\n",
       "pet_products                 7432\n",
       "digital_ebook_purchase       7071\n",
       "pc                           6709\n",
       "electronics                  6521\n",
       "office_product               5777\n",
       "shoes                        5450\n",
       "grocery                      4950\n",
       "book                         3943\n",
       "baby_product                 3302\n",
       "furniture                    3105\n",
       "jewelry                      2892\n",
       "camera                       2245\n",
       "industrial_supplies          2118\n",
       "digital_video_download       1447\n",
       "luggage                      1397\n",
       "musical_instruments          1151\n",
       "video_games                   836\n",
       "watch                         788\n",
       "personal_care_appliances       78\n",
       "Name: product_category, dtype: int64"
      ]
     },
     "execution_count": 15,
     "metadata": {},
     "output_type": "execute_result"
    }
   ],
   "source": [
    "categories_by_review = df.product_category.value_counts()\n",
    "categories_by_review"
   ]
  },
  {
   "cell_type": "code",
   "execution_count": 16,
   "metadata": {},
   "outputs": [
    {
     "data": {
      "text/plain": [
       "<AxesSubplot:>"
      ]
     },
     "execution_count": 16,
     "metadata": {},
     "output_type": "execute_result"
    },
    {
     "data": {
      "image/png": "[encoded data removed]",
      "text/plain": [
       "<Figure size 640x480 with 1 Axes>"
      ]
     },
     "metadata": {},
     "output_type": "display_data"
    }
   ],
   "source": [
    "categories_by_review.plot(kind='barh')"
   ]
  },
  {
   "cell_type": "code",
   "execution_count": 17,
   "metadata": {},
   "outputs": [
    {
     "data": {
      "text/plain": [
       "<AxesSubplot:xlabel='product_category', ylabel='Count'>"
      ]
     },
     "execution_count": 17,
     "metadata": {},
     "output_type": "execute_result"
    },
    {
     "data": {
      "image/png": "[encoded data removed]",
      "text/plain": [
       "<Figure size 640x480 with 1 Axes>"
      ]
     },
     "metadata": {},
     "output_type": "display_data"
    }
   ],
   "source": [
    "sns.histplot(categories_by_review, log_scale=True)"
   ]
  },
  {
   "cell_type": "markdown",
   "metadata": {},
   "source": [
    "### Stars"
   ]
  },
  {
   "cell_type": "markdown",
   "metadata": {},
   "source": [
    "> Number of unique stars"
   ]
  },
  {
   "cell_type": "code",
   "execution_count": 18,
   "metadata": {},
   "outputs": [
    {
     "data": {
      "text/plain": [
       "5"
      ]
     },
     "execution_count": 18,
     "metadata": {},
     "output_type": "execute_result"
    }
   ],
   "source": [
    "stars = df.stars.unique()\n",
    "len(stars)"
   ]
  },
  {
   "cell_type": "markdown",
   "metadata": {},
   "source": [
    "> Average of given stars"
   ]
  },
  {
   "cell_type": "code",
   "execution_count": 19,
   "metadata": {},
   "outputs": [],
   "source": [
    "avg = df.stars.unique()"
   ]
  },
  {
   "cell_type": "markdown",
   "metadata": {},
   "source": [
    "> Count of reviews for each star"
   ]
  },
  {
   "cell_type": "code",
   "execution_count": 20,
   "metadata": {},
   "outputs": [
    {
     "data": {
      "text/plain": [
       "1    42000\n",
       "2    42000\n",
       "3    42000\n",
       "4    42000\n",
       "5    42000\n",
       "Name: stars, dtype: int64"
      ]
     },
     "execution_count": 20,
     "metadata": {},
     "output_type": "execute_result"
    }
   ],
   "source": [
    "stars_by_review = df.stars.value_counts()\n",
    "stars_by_review"
   ]
  },
  {
   "cell_type": "code",
   "execution_count": 21,
   "metadata": {},
   "outputs": [
    {
     "data": {
      "text/plain": [
       "<AxesSubplot:>"
      ]
     },
     "execution_count": 21,
     "metadata": {},
     "output_type": "execute_result"
    },
    {
     "data": {
      "image/png": "[encoded data removed]",
      "text/plain": [
       "<Figure size 640x480 with 1 Axes>"
      ]
     },
     "metadata": {},
     "output_type": "display_data"
    }
   ],
   "source": [
    "\n",
    "stars_by_review.plot(kind='barh')"
   ]
  },
  {
   "cell_type": "markdown",
   "metadata": {},
   "source": [
    "### Product ID"
   ]
  },
  {
   "cell_type": "markdown",
   "metadata": {},
   "source": [
    "> Number of unique products"
   ]
  },
  {
   "cell_type": "code",
   "execution_count": 22,
   "metadata": {},
   "outputs": [
    {
     "data": {
      "text/plain": [
       "194104"
      ]
     },
     "execution_count": 22,
     "metadata": {},
     "output_type": "execute_result"
    }
   ],
   "source": [
    "product_ids = df.product_id.unique()\n",
    "len(product_ids)"
   ]
  },
  {
   "cell_type": "markdown",
   "metadata": {},
   "source": [
    "> Count of reviews for each product"
   ]
  },
  {
   "cell_type": "code",
   "execution_count": 23,
   "metadata": {},
   "outputs": [
    {
     "data": {
      "text/plain": [
       "1    180010\n",
       "2     24982\n",
       "3      4263\n",
       "4       664\n",
       "5        75\n",
       "6         6\n",
       "Name: product_id, dtype: int64"
      ]
     },
     "execution_count": 23,
     "metadata": {},
     "output_type": "execute_result"
    }
   ],
   "source": [
    "product_ids_by_review = df.product_id.value_counts()\n",
    "product_ids_by_review\n",
    "grouped = product_ids_by_review.groupby(lambda x : product_ids_by_review[x]).sum()\n",
    "grouped"
   ]
  },
  {
   "cell_type": "code",
   "execution_count": 24,
   "metadata": {},
   "outputs": [
    {
     "data": {
      "text/plain": [
       "<AxesSubplot:xlabel='product_id', ylabel='Count'>"
      ]
     },
     "execution_count": 24,
     "metadata": {},
     "output_type": "execute_result"
    },
    {
     "data": {
      "image/png": "[encoded data removed]",
      "text/plain": [
       "<Figure size 640x480 with 1 Axes>"
      ]
     },
     "metadata": {},
     "output_type": "display_data"
    }
   ],
   "source": [
    "sns.histplot(product_ids_by_review)"
   ]
  },
  {
   "cell_type": "markdown",
   "metadata": {},
   "source": [
    "> Average review of products which have more than 2 reviews"
   ]
  },
  {
   "cell_type": "code",
   "execution_count": 25,
   "metadata": {},
   "outputs": [
    {
     "data": {
      "text/plain": [
       "<AxesSubplot:xlabel='stars', ylabel='Count'>"
      ]
     },
     "execution_count": 25,
     "metadata": {},
     "output_type": "execute_result"
    },
    {
     "data": {
      "image/png": "[encoded data removed]",
      "text/plain": [
       "<Figure size 640x480 with 1 Axes>"
      ]
     },
     "metadata": {},
     "output_type": "display_data"
    }
   ],
   "source": [
    "product_ids_by_review_multiple = pd.DataFrame({'product_id':product_ids_by_review.index, 'num_of_stars':product_ids_by_review.values})\n",
    "product_ids_by_review_multiple = product_ids_by_review_multiple.loc[product_ids_by_review_multiple[\"num_of_stars\"] > 2]\n",
    "result =  df[df['product_id'].isin(product_ids_by_review_multiple[\"product_id\"])]\n",
    "result = result.groupby('product_id')['stars'].mean().sort_values(ascending=False)\n",
    "sns.histplot(result, log_scale=True)"
   ]
  },
  {
   "cell_type": "code",
   "execution_count": 26,
   "metadata": {},
   "outputs": [
    {
     "name": "stdout",
     "output_type": "stream",
     "text": [
      "stars    0.08324\n",
      "dtype: float64\n",
      "stars   -0.582092\n",
      "dtype: float64\n"
     ]
    }
   ],
   "source": [
    "print(pd.DataFrame(result).skew())\n",
    "print(pd.DataFrame(result).kurtosis())"
   ]
  },
  {
   "cell_type": "code",
   "execution_count": 27,
   "metadata": {},
   "outputs": [
    {
     "data": {
      "text/plain": [
       "product_id\n",
       "product_en_0207548    5.0\n",
       "product_en_0873014    5.0\n",
       "product_en_0965309    5.0\n",
       "product_en_0591465    5.0\n",
       "product_en_0390332    5.0\n",
       "                     ... \n",
       "product_en_0304410    1.0\n",
       "product_en_0817240    1.0\n",
       "product_en_0961426    1.0\n",
       "product_en_0731346    1.0\n",
       "product_en_0367022    1.0\n",
       "Name: stars, Length: 1603, dtype: float64"
      ]
     },
     "execution_count": 27,
     "metadata": {},
     "output_type": "execute_result"
    }
   ],
   "source": [
    "result"
   ]
  },
  {
   "cell_type": "markdown",
   "metadata": {},
   "source": [
    "> Title Length Frequency"
   ]
  },
  {
   "cell_type": "code",
   "execution_count": 28,
   "metadata": {},
   "outputs": [],
   "source": [
    "lenghts = pd.DataFrame()\n",
    "lenghts[\"Review_Length\"]= df[\"review_body\"].str.len()\n",
    "lenghts[\"Title_Length\"] = df[\"review_title\"].str.len()"
   ]
  },
  {
   "cell_type": "code",
   "execution_count": 29,
   "metadata": {},
   "outputs": [
    {
     "name": "stderr",
     "output_type": "stream",
     "text": [
      "c:\\Users\\marko.vasilic\\AppData\\Local\\Programs\\Python\\Python39\\lib\\site-packages\\seaborn\\distributions.py:2619: FutureWarning: `distplot` is a deprecated function and will be removed in a future version. Please adapt your code to use either `displot` (a figure-level function with similar flexibility) or `histplot` (an axes-level function for histograms).\n",
      "  warnings.warn(msg, FutureWarning)\n"
     ]
    },
    {
     "data": {
      "image/png": "[encoded data removed]",
      "text/plain": [
       "<Figure size 640x480 with 1 Axes>"
      ]
     },
     "metadata": {},
     "output_type": "display_data"
    }
   ],
   "source": [
    "sns.distplot(lenghts['Review_Length'].dropna())\n",
    "plt.show()"
   ]
  },
  {
   "cell_type": "code",
   "execution_count": 30,
   "metadata": {},
   "outputs": [
    {
     "name": "stderr",
     "output_type": "stream",
     "text": [
      "c:\\Users\\marko.vasilic\\AppData\\Local\\Programs\\Python\\Python39\\lib\\site-packages\\seaborn\\distributions.py:2619: FutureWarning: `distplot` is a deprecated function and will be removed in a future version. Please adapt your code to use either `displot` (a figure-level function with similar flexibility) or `histplot` (an axes-level function for histograms).\n",
      "  warnings.warn(msg, FutureWarning)\n"
     ]
    },
    {
     "data": {
      "image/png": "[encoded data removed]",
      "text/plain": [
       "<Figure size 640x480 with 1 Axes>"
      ]
     },
     "metadata": {},
     "output_type": "display_data"
    }
   ],
   "source": [
    "sns.distplot(lenghts['Title_Length'].dropna())\n",
    "plt.show()"
   ]
  },
  {
   "cell_type": "markdown",
   "metadata": {},
   "source": [
    "### Reviewer_id"
   ]
  },
  {
   "cell_type": "markdown",
   "metadata": {},
   "source": [
    "> Number of unique reviewers"
   ]
  },
  {
   "cell_type": "code",
   "execution_count": 31,
   "metadata": {},
   "outputs": [
    {
     "data": {
      "text/plain": [
       "206410"
      ]
     },
     "execution_count": 31,
     "metadata": {},
     "output_type": "execute_result"
    }
   ],
   "source": [
    "reviewer_ids = df.reviewer_id.unique()\n",
    "len(reviewer_ids)"
   ]
  },
  {
   "cell_type": "code",
   "execution_count": 32,
   "metadata": {},
   "outputs": [
    {
     "data": {
      "text/plain": [
       "1    203005\n",
       "2      6474\n",
       "3       459\n",
       "4        52\n",
       "5        10\n",
       "Name: reviewer_id, dtype: int64"
      ]
     },
     "execution_count": 32,
     "metadata": {},
     "output_type": "execute_result"
    }
   ],
   "source": [
    "reviewer_ids_by_review = df.reviewer_id.value_counts()\n",
    "reviewer_ids_by_review\n",
    "grouped = reviewer_ids_by_review.groupby(lambda x : reviewer_ids_by_review[x]).sum()\n",
    "grouped"
   ]
  },
  {
   "cell_type": "markdown",
   "metadata": {},
   "source": [
    "> Average review given by reviewer who gave more than 2 reviews"
   ]
  },
  {
   "cell_type": "code",
   "execution_count": 33,
   "metadata": {},
   "outputs": [
    {
     "data": {
      "text/plain": [
       "<AxesSubplot:xlabel='stars', ylabel='Count'>"
      ]
     },
     "execution_count": 33,
     "metadata": {},
     "output_type": "execute_result"
    },
    {
     "data": {
      "image/png": "[encoded data removed]",
      "text/plain": [
       "<Figure size 640x480 with 1 Axes>"
      ]
     },
     "metadata": {},
     "output_type": "display_data"
    }
   ],
   "source": [
    "reviewer_ids_by_review_multiple = pd.DataFrame({'reviewer_id':reviewer_ids_by_review.index, 'num_of_stars':reviewer_ids_by_review.values})\n",
    "reviewer_ids_by_review_multiple = reviewer_ids_by_review_multiple.loc[reviewer_ids_by_review_multiple[\"num_of_stars\"] > 2]\n",
    "result =  df[df['reviewer_id'].isin(reviewer_ids_by_review_multiple[\"reviewer_id\"])]\n",
    "result = result.groupby('reviewer_id')['stars'].mean().sort_values(ascending=False)\n",
    "sns.histplot(result, log_scale=True)"
   ]
  },
  {
   "cell_type": "code",
   "execution_count": 34,
   "metadata": {},
   "outputs": [
    {
     "data": {
      "text/plain": [
       "reviewer_id\n",
       "reviewer_en_0839166    5.000000\n",
       "reviewer_en_0343518    5.000000\n",
       "reviewer_en_0046660    5.000000\n",
       "reviewer_en_0761982    5.000000\n",
       "reviewer_en_0502824    4.750000\n",
       "                         ...   \n",
       "reviewer_en_0318527    2.000000\n",
       "reviewer_en_0084071    1.666667\n",
       "reviewer_en_0921376    1.000000\n",
       "reviewer_en_0121334    1.000000\n",
       "reviewer_en_0399975    1.000000\n",
       "Name: stars, Length: 168, dtype: float64"
      ]
     },
     "execution_count": 34,
     "metadata": {},
     "output_type": "execute_result"
    }
   ],
   "source": [
    "result"
   ]
  },
  {
   "cell_type": "markdown",
   "metadata": {},
   "source": [
    "### Product categories and stars"
   ]
  },
  {
   "cell_type": "markdown",
   "metadata": {},
   "source": [
    "> Average review of each product category"
   ]
  },
  {
   "cell_type": "code",
   "execution_count": 35,
   "metadata": {},
   "outputs": [
    {
     "data": {
      "text/plain": [
       "Text(0.5, 1.0, 'Product category vs stars')"
      ]
     },
     "execution_count": 35,
     "metadata": {},
     "output_type": "execute_result"
    },
    {
     "data": {
      "image/png": "[encoded data removed]",
      "text/plain": [
       "<Figure size 640x480 with 1 Axes>"
      ]
     },
     "metadata": {},
     "output_type": "display_data"
    }
   ],
   "source": [
    "category_stars = df.groupby('product_category')['stars'].mean().sort_values(ascending=False).plot.bar(fontsize=12)\n",
    "category_stars.set_title(\"Product category vs stars\", fontsize=18)"
   ]
  },
  {
   "cell_type": "markdown",
   "metadata": {},
   "source": [
    "### Number of words in review body and stars corelation"
   ]
  },
  {
   "cell_type": "code",
   "execution_count": 36,
   "metadata": {},
   "outputs": [
    {
     "name": "stderr",
     "output_type": "stream",
     "text": [
      "C:\\Users\\marko.vasilic\\AppData\\Local\\Temp\\ipykernel_12848\\77525473.py:4: SettingWithCopyWarning: \n",
      "A value is trying to be set on a copy of a slice from a DataFrame.\n",
      "Try using .loc[row_indexer,col_indexer] = value instead\n",
      "\n",
      "See the caveats in the documentation: https://pandas.pydata.org/pandas-docs/stable/user_guide/indexing.html#returning-a-view-versus-a-copy\n",
      "  corelation_lenght_stars[\"lenght_of_review\"] = lenght\n"
     ]
    },
    {
     "data": {
      "text/html": [
       "<div>\n",
       "<style scoped>\n",
       "    .dataframe tbody tr th:only-of-type {\n",
       "        vertical-align: middle;\n",
       "    }\n",
       "\n",
       "    .dataframe tbody tr th {\n",
       "        vertical-align: top;\n",
       "    }\n",
       "\n",
       "    .dataframe thead th {\n",
       "        text-align: right;\n",
       "    }\n",
       "</style>\n",
       "<table border=\"1\" class=\"dataframe\">\n",
       "  <thead>\n",
       "    <tr style=\"text-align: right;\">\n",
       "      <th></th>\n",
       "      <th>stars</th>\n",
       "      <th>review_body</th>\n",
       "      <th>lenght_of_review</th>\n",
       "    </tr>\n",
       "  </thead>\n",
       "  <tbody>\n",
       "    <tr>\n",
       "      <th>0</th>\n",
       "      <td>1</td>\n",
       "      <td>These are AWFUL. They are see through, the fab...</td>\n",
       "      <td>46</td>\n",
       "    </tr>\n",
       "    <tr>\n",
       "      <th>1</th>\n",
       "      <td>1</td>\n",
       "      <td>No pressure, not a great hose for anything!!</td>\n",
       "      <td>8</td>\n",
       "    </tr>\n",
       "    <tr>\n",
       "      <th>2</th>\n",
       "      <td>1</td>\n",
       "      <td>I ordered 11 or 12 cds...will NEVER order them...</td>\n",
       "      <td>10</td>\n",
       "    </tr>\n",
       "    <tr>\n",
       "      <th>3</th>\n",
       "      <td>1</td>\n",
       "      <td>too bunchy inside of shoes or boots, did not w...</td>\n",
       "      <td>26</td>\n",
       "    </tr>\n",
       "    <tr>\n",
       "      <th>4</th>\n",
       "      <td>1</td>\n",
       "      <td>Took a dump quit working after 3 weeks</td>\n",
       "      <td>8</td>\n",
       "    </tr>\n",
       "    <tr>\n",
       "      <th>...</th>\n",
       "      <td>...</td>\n",
       "      <td>...</td>\n",
       "      <td>...</td>\n",
       "    </tr>\n",
       "    <tr>\n",
       "      <th>209995</th>\n",
       "      <td>5</td>\n",
       "      <td>I have been using this product for almost a ye...</td>\n",
       "      <td>152</td>\n",
       "    </tr>\n",
       "    <tr>\n",
       "      <th>209996</th>\n",
       "      <td>5</td>\n",
       "      <td>Beautiful runner! So happy I bought this!</td>\n",
       "      <td>7</td>\n",
       "    </tr>\n",
       "    <tr>\n",
       "      <th>209997</th>\n",
       "      <td>5</td>\n",
       "      <td>Chose Morning Pep brand of xylitol after study...</td>\n",
       "      <td>96</td>\n",
       "    </tr>\n",
       "    <tr>\n",
       "      <th>209998</th>\n",
       "      <td>5</td>\n",
       "      <td>I used to use these commercially, and when I m...</td>\n",
       "      <td>53</td>\n",
       "    </tr>\n",
       "    <tr>\n",
       "      <th>209999</th>\n",
       "      <td>5</td>\n",
       "      <td>A wish I would've ordered one size smaller (I ...</td>\n",
       "      <td>48</td>\n",
       "    </tr>\n",
       "  </tbody>\n",
       "</table>\n",
       "<p>210000 rows × 3 columns</p>\n",
       "</div>"
      ],
      "text/plain": [
       "        stars                                        review_body  \\\n",
       "0           1  These are AWFUL. They are see through, the fab...   \n",
       "1           1       No pressure, not a great hose for anything!!   \n",
       "2           1  I ordered 11 or 12 cds...will NEVER order them...   \n",
       "3           1  too bunchy inside of shoes or boots, did not w...   \n",
       "4           1             Took a dump quit working after 3 weeks   \n",
       "...       ...                                                ...   \n",
       "209995      5  I have been using this product for almost a ye...   \n",
       "209996      5          Beautiful runner! So happy I bought this!   \n",
       "209997      5  Chose Morning Pep brand of xylitol after study...   \n",
       "209998      5  I used to use these commercially, and when I m...   \n",
       "209999      5  A wish I would've ordered one size smaller (I ...   \n",
       "\n",
       "        lenght_of_review  \n",
       "0                     46  \n",
       "1                      8  \n",
       "2                     10  \n",
       "3                     26  \n",
       "4                      8  \n",
       "...                  ...  \n",
       "209995               152  \n",
       "209996                 7  \n",
       "209997                96  \n",
       "209998                53  \n",
       "209999                48  \n",
       "\n",
       "[210000 rows x 3 columns]"
      ]
     },
     "execution_count": 36,
     "metadata": {},
     "output_type": "execute_result"
    }
   ],
   "source": [
    "corelation_lenght_stars = df[['stars', 'review_body']]\n",
    "lenght = corelation_lenght_stars['review_body'].map(lambda calc: len(calc.split(\" \")))\n",
    "lenght = lenght.to_list()\n",
    "corelation_lenght_stars[\"lenght_of_review\"] = lenght\n",
    "corelation_lenght_stars"
   ]
  },
  {
   "cell_type": "code",
   "execution_count": 37,
   "metadata": {},
   "outputs": [
    {
     "data": {
      "text/html": [
       "<div>\n",
       "<style scoped>\n",
       "    .dataframe tbody tr th:only-of-type {\n",
       "        vertical-align: middle;\n",
       "    }\n",
       "\n",
       "    .dataframe tbody tr th {\n",
       "        vertical-align: top;\n",
       "    }\n",
       "\n",
       "    .dataframe thead th {\n",
       "        text-align: right;\n",
       "    }\n",
       "</style>\n",
       "<table border=\"1\" class=\"dataframe\">\n",
       "  <thead>\n",
       "    <tr style=\"text-align: right;\">\n",
       "      <th></th>\n",
       "      <th>stars</th>\n",
       "      <th>lenght_of_review</th>\n",
       "    </tr>\n",
       "  </thead>\n",
       "  <tbody>\n",
       "    <tr>\n",
       "      <th>stars</th>\n",
       "      <td>1.000000</td>\n",
       "      <td>-0.038433</td>\n",
       "    </tr>\n",
       "    <tr>\n",
       "      <th>lenght_of_review</th>\n",
       "      <td>-0.038433</td>\n",
       "      <td>1.000000</td>\n",
       "    </tr>\n",
       "  </tbody>\n",
       "</table>\n",
       "</div>"
      ],
      "text/plain": [
       "                     stars  lenght_of_review\n",
       "stars             1.000000         -0.038433\n",
       "lenght_of_review -0.038433          1.000000"
      ]
     },
     "execution_count": 37,
     "metadata": {},
     "output_type": "execute_result"
    },
    {
     "data": {
      "image/png": "[encoded data removed]",
      "text/plain": [
       "<Figure size 2000x1000 with 2 Axes>"
      ]
     },
     "metadata": {},
     "output_type": "display_data"
    }
   ],
   "source": [
    "plt.figure(figsize=(20,10))\n",
    "c = corelation_lenght_stars.corr()\n",
    "sns.heatmap(c,cmap=\"BrBG\",annot=True)\n",
    "c"
   ]
  },
  {
   "cell_type": "code",
   "execution_count": 38,
   "metadata": {},
   "outputs": [
    {
     "data": {
      "image/png": "[encoded data removed]",
      "text/plain": [
       "<Figure size 640x480 with 1 Axes>"
      ]
     },
     "metadata": {},
     "output_type": "display_data"
    },
    {
     "name": "stdout",
     "output_type": "stream",
     "text": [
      "Review Length to Star Rating Correlation: -0.03843347179800893\n"
     ]
    }
   ],
   "source": [
    "plt.scatter(lenght, df['stars'])\n",
    "plt.title('Review_Length vs Star Rating')\n",
    "plt.xlabel('Review Length')\n",
    "plt.ylabel('Star Rating')\n",
    "plt.show()\n",
    "print(\"Review Length to Star Rating Correlation:\",df['stars'].corr(corelation_lenght_stars['lenght_of_review']))"
   ]
  },
  {
   "cell_type": "markdown",
   "metadata": {},
   "source": [
    "### Number of words in review title and stars corelation"
   ]
  },
  {
   "cell_type": "code",
   "execution_count": 39,
   "metadata": {},
   "outputs": [
    {
     "data": {
      "text/html": [
       "<div>\n",
       "<style scoped>\n",
       "    .dataframe tbody tr th:only-of-type {\n",
       "        vertical-align: middle;\n",
       "    }\n",
       "\n",
       "    .dataframe tbody tr th {\n",
       "        vertical-align: top;\n",
       "    }\n",
       "\n",
       "    .dataframe thead th {\n",
       "        text-align: right;\n",
       "    }\n",
       "</style>\n",
       "<table border=\"1\" class=\"dataframe\">\n",
       "  <thead>\n",
       "    <tr style=\"text-align: right;\">\n",
       "      <th></th>\n",
       "      <th>stars</th>\n",
       "      <th>review_title</th>\n",
       "      <th>lenght_of_review_title</th>\n",
       "    </tr>\n",
       "  </thead>\n",
       "  <tbody>\n",
       "    <tr>\n",
       "      <th>0</th>\n",
       "      <td>1</td>\n",
       "      <td>Don’t waste your time!</td>\n",
       "      <td>4</td>\n",
       "    </tr>\n",
       "    <tr>\n",
       "      <th>1</th>\n",
       "      <td>1</td>\n",
       "      <td>Waste of Money!! No pressure, not good for fil...</td>\n",
       "      <td>16</td>\n",
       "    </tr>\n",
       "    <tr>\n",
       "      <th>2</th>\n",
       "      <td>1</td>\n",
       "      <td>They skip and have very very very poor sound q...</td>\n",
       "      <td>10</td>\n",
       "    </tr>\n",
       "    <tr>\n",
       "      <th>3</th>\n",
       "      <td>1</td>\n",
       "      <td>awkward and uncomfortable; do not work</td>\n",
       "      <td>6</td>\n",
       "    </tr>\n",
       "    <tr>\n",
       "      <th>4</th>\n",
       "      <td>1</td>\n",
       "      <td>Poor quality apparently.</td>\n",
       "      <td>3</td>\n",
       "    </tr>\n",
       "    <tr>\n",
       "      <th>...</th>\n",
       "      <td>...</td>\n",
       "      <td>...</td>\n",
       "      <td>...</td>\n",
       "    </tr>\n",
       "    <tr>\n",
       "      <th>209995</th>\n",
       "      <td>5</td>\n",
       "      <td>Love it!!</td>\n",
       "      <td>2</td>\n",
       "    </tr>\n",
       "    <tr>\n",
       "      <th>209996</th>\n",
       "      <td>5</td>\n",
       "      <td>Five Stars</td>\n",
       "      <td>2</td>\n",
       "    </tr>\n",
       "    <tr>\n",
       "      <th>209997</th>\n",
       "      <td>5</td>\n",
       "      <td>My choice for Xylitol</td>\n",
       "      <td>4</td>\n",
       "    </tr>\n",
       "    <tr>\n",
       "      <th>209998</th>\n",
       "      <td>5</td>\n",
       "      <td>Speeds up cleaning on large surfaces and so ea...</td>\n",
       "      <td>11</td>\n",
       "    </tr>\n",
       "    <tr>\n",
       "      <th>209999</th>\n",
       "      <td>5</td>\n",
       "      <td>SUPER CUTE!</td>\n",
       "      <td>2</td>\n",
       "    </tr>\n",
       "  </tbody>\n",
       "</table>\n",
       "<p>209977 rows × 3 columns</p>\n",
       "</div>"
      ],
      "text/plain": [
       "        stars                                       review_title  \\\n",
       "0           1                             Don’t waste your time!   \n",
       "1           1  Waste of Money!! No pressure, not good for fil...   \n",
       "2           1  They skip and have very very very poor sound q...   \n",
       "3           1             awkward and uncomfortable; do not work   \n",
       "4           1                           Poor quality apparently.   \n",
       "...       ...                                                ...   \n",
       "209995      5                                          Love it!!   \n",
       "209996      5                                         Five Stars   \n",
       "209997      5                              My choice for Xylitol   \n",
       "209998      5  Speeds up cleaning on large surfaces and so ea...   \n",
       "209999      5                                        SUPER CUTE!   \n",
       "\n",
       "        lenght_of_review_title  \n",
       "0                            4  \n",
       "1                           16  \n",
       "2                           10  \n",
       "3                            6  \n",
       "4                            3  \n",
       "...                        ...  \n",
       "209995                       2  \n",
       "209996                       2  \n",
       "209997                       4  \n",
       "209998                      11  \n",
       "209999                       2  \n",
       "\n",
       "[209977 rows x 3 columns]"
      ]
     },
     "execution_count": 39,
     "metadata": {},
     "output_type": "execute_result"
    }
   ],
   "source": [
    "corelation_lenght_stars = df[['stars', 'review_title']].dropna()\n",
    "lenght = corelation_lenght_stars['review_title'].map(lambda calc: len(calc.split(\" \")))\n",
    "lenght = lenght.to_list()\n",
    "corelation_lenght_stars[\"lenght_of_review_title\"] = lenght\n",
    "corelation_lenght_stars"
   ]
  },
  {
   "cell_type": "code",
   "execution_count": 40,
   "metadata": {},
   "outputs": [
    {
     "data": {
      "text/html": [
       "<div>\n",
       "<style scoped>\n",
       "    .dataframe tbody tr th:only-of-type {\n",
       "        vertical-align: middle;\n",
       "    }\n",
       "\n",
       "    .dataframe tbody tr th {\n",
       "        vertical-align: top;\n",
       "    }\n",
       "\n",
       "    .dataframe thead th {\n",
       "        text-align: right;\n",
       "    }\n",
       "</style>\n",
       "<table border=\"1\" class=\"dataframe\">\n",
       "  <thead>\n",
       "    <tr style=\"text-align: right;\">\n",
       "      <th></th>\n",
       "      <th>stars</th>\n",
       "      <th>lenght_of_review_title</th>\n",
       "    </tr>\n",
       "  </thead>\n",
       "  <tbody>\n",
       "    <tr>\n",
       "      <th>stars</th>\n",
       "      <td>1.000000</td>\n",
       "      <td>-0.054087</td>\n",
       "    </tr>\n",
       "    <tr>\n",
       "      <th>lenght_of_review_title</th>\n",
       "      <td>-0.054087</td>\n",
       "      <td>1.000000</td>\n",
       "    </tr>\n",
       "  </tbody>\n",
       "</table>\n",
       "</div>"
      ],
      "text/plain": [
       "                           stars  lenght_of_review_title\n",
       "stars                   1.000000               -0.054087\n",
       "lenght_of_review_title -0.054087                1.000000"
      ]
     },
     "execution_count": 40,
     "metadata": {},
     "output_type": "execute_result"
    },
    {
     "data": {
      "image/png": "[encoded data removed]",
      "text/plain": [
       "<Figure size 2000x1000 with 2 Axes>"
      ]
     },
     "metadata": {},
     "output_type": "display_data"
    }
   ],
   "source": [
    "plt.figure(figsize=(20,10))\n",
    "c= corelation_lenght_stars.corr()\n",
    "sns.heatmap(c,cmap=\"BrBG\",annot=True)\n",
    "c"
   ]
  },
  {
   "cell_type": "code",
   "execution_count": 41,
   "metadata": {},
   "outputs": [
    {
     "data": {
      "image/png": "[encoded data removed]",
      "text/plain": [
       "<Figure size 640x480 with 1 Axes>"
      ]
     },
     "metadata": {},
     "output_type": "display_data"
    },
    {
     "name": "stdout",
     "output_type": "stream",
     "text": [
      "Title Length to Star Rating Correlation: -0.0540868155569503\n"
     ]
    }
   ],
   "source": [
    "plt.scatter(lenght, corelation_lenght_stars['stars'])\n",
    "plt.title('Title_Length vs Star Rating')\n",
    "plt.xlabel('Title Length')\n",
    "plt.ylabel('Star Rating')\n",
    "plt.show()\n",
    "print(\"Title Length to Star Rating Correlation:\",df['stars'].corr(corelation_lenght_stars['lenght_of_review_title']))"
   ]
  },
  {
   "cell_type": "markdown",
   "metadata": {},
   "source": [
    "## Data cleaning"
   ]
  },
  {
   "cell_type": "markdown",
   "metadata": {},
   "source": [
    "### Removing nan values"
   ]
  },
  {
   "cell_type": "markdown",
   "metadata": {},
   "source": [
    "> Ways of removing nan values\n",
    "- Using first sentence in review body for review title (used here)\n",
    "- Removing all rows from dataframe with nan value\n",
    "- Using some kind of ai alghoritm to generete title based on body by teaching it on other data that has body and title\n",
    "- Based on star rating of review giving title some generic word that could desribe that rating"
   ]
  },
  {
   "cell_type": "code",
   "execution_count": 42,
   "metadata": {},
   "outputs": [],
   "source": [
    "missing = df[df.isnull().any(axis=1)]\n",
    "for index, row in missing.iterrows():\n",
    "    df.at[index,'review_title'] = str(re.split(',|\\.|\\!', row['review_body'])[0])"
   ]
  },
  {
   "cell_type": "code",
   "execution_count": 43,
   "metadata": {},
   "outputs": [
    {
     "data": {
      "text/plain": [
       "review_id           0\n",
       "product_id          0\n",
       "reviewer_id         0\n",
       "stars               0\n",
       "review_body         0\n",
       "review_title        0\n",
       "language            0\n",
       "product_category    0\n",
       "dtype: int64"
      ]
     },
     "execution_count": 43,
     "metadata": {},
     "output_type": "execute_result"
    }
   ],
   "source": [
    "missing_count = df.isna().sum().sort_values(ascending=False)\n",
    "missing_count"
   ]
  },
  {
   "cell_type": "markdown",
   "metadata": {},
   "source": [
    "### Preprocess the data"
   ]
  },
  {
   "cell_type": "markdown",
   "metadata": {},
   "source": [
    "> Simplifying review titles"
   ]
  },
  {
   "cell_type": "code",
   "execution_count": 44,
   "metadata": {},
   "outputs": [],
   "source": [
    "import sys  \n",
    "sys.path.insert(0, '../src')\n",
    "\n",
    "import preprocess_words\n",
    "#new_df = preprocess_words.text_preprocessing_eng(df, 'review_title')"
   ]
  },
  {
   "cell_type": "code",
   "execution_count": 45,
   "metadata": {},
   "outputs": [],
   "source": [
    "from nltk.tokenize import word_tokenize\n",
    "from nltk.corpus import stopwords\n",
    "from nltk.stem.porter import PorterStemmer\n",
    "for index, row in df.iterrows():\n",
    "    #print(df.at[index,'review_title'])\n",
    "    # split into tokens by white space\n",
    "    tokens = word_tokenize(df.at[index,'review_title'])\n",
    "    # make every word lowercase\n",
    "    tokens = [w.lower() for w in tokens]\n",
    "    # remove remaining tokens that are not alphabetic\n",
    "    words = [word for word in tokens if word.isalpha()]\n",
    "    # filter out stop words\n",
    "    stop_words = set(stopwords.words('english'))\n",
    "    stop_words.discard(\"not\")\n",
    "    words = [w for w in words if not w in stop_words]\n",
    "    # stemming of words\n",
    "    porter = PorterStemmer()\n",
    "    stemmed = [porter.stem(word) for word in words]\n",
    "    # join words\n",
    "    stemmed = ' '.join(stemmed)\n",
    "    #print(words)\n",
    "    df.at[index,'review_title'] = stemmed"
   ]
  },
  {
   "cell_type": "markdown",
   "metadata": {},
   "source": [
    "> Simplifying review bodies"
   ]
  },
  {
   "cell_type": "code",
   "execution_count": 46,
   "metadata": {},
   "outputs": [],
   "source": [
    "for index, row in df.iterrows():\n",
    "    #print(df.at[index,'review_title'])\n",
    "    # split into tokens by white space\n",
    "    tokens = word_tokenize(df.at[index,'review_body'])\n",
    "    # make every word lowercase\n",
    "    tokens = [w.lower() for w in tokens]\n",
    "    # remove remaining tokens that are not alphabetic\n",
    "    words = [word for word in tokens if word.isalpha()]\n",
    "    # filter out stop words\n",
    "    stop_words = set(stopwords.words('english'))\n",
    "    stop_words.discard(\"not\")\n",
    "    words = [w for w in words if not w in stop_words]\n",
    "    # stemming of words\n",
    "    porter = PorterStemmer()\n",
    "    stemmed = [porter.stem(word) for word in words]\n",
    "    # join words\n",
    "    stemmed = ' '.join(stemmed)\n",
    "    #print(words)\n",
    "    df.at[index,'review_body'] = stemmed"
   ]
  },
  {
   "cell_type": "markdown",
   "metadata": {},
   "source": [
    "> Deleting rows with no review body"
   ]
  },
  {
   "cell_type": "code",
   "execution_count": 47,
   "metadata": {},
   "outputs": [
    {
     "data": {
      "text/html": [
       "<div>\n",
       "<style scoped>\n",
       "    .dataframe tbody tr th:only-of-type {\n",
       "        vertical-align: middle;\n",
       "    }\n",
       "\n",
       "    .dataframe tbody tr th {\n",
       "        vertical-align: top;\n",
       "    }\n",
       "\n",
       "    .dataframe thead th {\n",
       "        text-align: right;\n",
       "    }\n",
       "</style>\n",
       "<table border=\"1\" class=\"dataframe\">\n",
       "  <thead>\n",
       "    <tr style=\"text-align: right;\">\n",
       "      <th></th>\n",
       "      <th>review_id</th>\n",
       "      <th>product_id</th>\n",
       "      <th>reviewer_id</th>\n",
       "      <th>stars</th>\n",
       "      <th>review_body</th>\n",
       "      <th>review_title</th>\n",
       "      <th>language</th>\n",
       "      <th>product_category</th>\n",
       "    </tr>\n",
       "  </thead>\n",
       "  <tbody>\n",
       "  </tbody>\n",
       "</table>\n",
       "</div>"
      ],
      "text/plain": [
       "Empty DataFrame\n",
       "Columns: [review_id, product_id, reviewer_id, stars, review_body, review_title, language, product_category]\n",
       "Index: []"
      ]
     },
     "execution_count": 47,
     "metadata": {},
     "output_type": "execute_result"
    }
   ],
   "source": [
    "missing = df.loc[df['review_body'] == '']\n",
    "for index, row in missing.iterrows():\n",
    "    df.drop([index], axis=0, inplace=True)\n",
    "missing = df.loc[df['review_body'] == '']\n",
    "missing"
   ]
  },
  {
   "cell_type": "markdown",
   "metadata": {},
   "source": [
    "> Generating title for reviews that lost it in preprocessing"
   ]
  },
  {
   "cell_type": "code",
   "execution_count": 48,
   "metadata": {},
   "outputs": [],
   "source": [
    "missing = df.loc[df['review_title'] == '']\n",
    "for index, row in missing.iterrows():\n",
    "    df.at[index,'review_title'] = str(re.split(',|\\.|\\!', row['review_body'])[0])"
   ]
  },
  {
   "cell_type": "code",
   "execution_count": 49,
   "metadata": {},
   "outputs": [
    {
     "data": {
      "text/html": [
       "<div>\n",
       "<style scoped>\n",
       "    .dataframe tbody tr th:only-of-type {\n",
       "        vertical-align: middle;\n",
       "    }\n",
       "\n",
       "    .dataframe tbody tr th {\n",
       "        vertical-align: top;\n",
       "    }\n",
       "\n",
       "    .dataframe thead th {\n",
       "        text-align: right;\n",
       "    }\n",
       "</style>\n",
       "<table border=\"1\" class=\"dataframe\">\n",
       "  <thead>\n",
       "    <tr style=\"text-align: right;\">\n",
       "      <th></th>\n",
       "      <th>review_id</th>\n",
       "      <th>product_id</th>\n",
       "      <th>reviewer_id</th>\n",
       "      <th>stars</th>\n",
       "      <th>review_body</th>\n",
       "      <th>review_title</th>\n",
       "      <th>language</th>\n",
       "      <th>product_category</th>\n",
       "    </tr>\n",
       "  </thead>\n",
       "  <tbody>\n",
       "    <tr>\n",
       "      <th>0</th>\n",
       "      <td>en_0199937</td>\n",
       "      <td>product_en_0902516</td>\n",
       "      <td>reviewer_en_0097389</td>\n",
       "      <td>1</td>\n",
       "      <td>aw see fabric feel like tablecloth fit like ch...</td>\n",
       "      <td>wast time</td>\n",
       "      <td>en</td>\n",
       "      <td>apparel</td>\n",
       "    </tr>\n",
       "    <tr>\n",
       "      <th>1</th>\n",
       "      <td>en_0200890</td>\n",
       "      <td>product_en_0888882</td>\n",
       "      <td>reviewer_en_0702203</td>\n",
       "      <td>1</td>\n",
       "      <td>pressur not great hose anyth</td>\n",
       "      <td>wast money pressur not good fill pool wash car</td>\n",
       "      <td>en</td>\n",
       "      <td>lawn_and_garden</td>\n",
       "    </tr>\n",
       "    <tr>\n",
       "      <th>2</th>\n",
       "      <td>en_0949818</td>\n",
       "      <td>product_en_0969532</td>\n",
       "      <td>reviewer_en_0662404</td>\n",
       "      <td>1</td>\n",
       "      <td>order cd never order</td>\n",
       "      <td>skip poor sound qualiti</td>\n",
       "      <td>en</td>\n",
       "      <td>other</td>\n",
       "    </tr>\n",
       "    <tr>\n",
       "      <th>3</th>\n",
       "      <td>en_0681307</td>\n",
       "      <td>product_en_0851291</td>\n",
       "      <td>reviewer_en_0843843</td>\n",
       "      <td>1</td>\n",
       "      <td>bunchi insid shoe boot not warm toe like put b...</td>\n",
       "      <td>awkward uncomfort not work</td>\n",
       "      <td>en</td>\n",
       "      <td>other</td>\n",
       "    </tr>\n",
       "    <tr>\n",
       "      <th>4</th>\n",
       "      <td>en_0846533</td>\n",
       "      <td>product_en_0633896</td>\n",
       "      <td>reviewer_en_0315301</td>\n",
       "      <td>1</td>\n",
       "      <td>took dump quit work week</td>\n",
       "      <td>poor qualiti appar</td>\n",
       "      <td>en</td>\n",
       "      <td>wireless</td>\n",
       "    </tr>\n",
       "  </tbody>\n",
       "</table>\n",
       "</div>"
      ],
      "text/plain": [
       "    review_id          product_id          reviewer_id  stars  \\\n",
       "0  en_0199937  product_en_0902516  reviewer_en_0097389      1   \n",
       "1  en_0200890  product_en_0888882  reviewer_en_0702203      1   \n",
       "2  en_0949818  product_en_0969532  reviewer_en_0662404      1   \n",
       "3  en_0681307  product_en_0851291  reviewer_en_0843843      1   \n",
       "4  en_0846533  product_en_0633896  reviewer_en_0315301      1   \n",
       "\n",
       "                                         review_body  \\\n",
       "0  aw see fabric feel like tablecloth fit like ch...   \n",
       "1                       pressur not great hose anyth   \n",
       "2                               order cd never order   \n",
       "3  bunchi insid shoe boot not warm toe like put b...   \n",
       "4                           took dump quit work week   \n",
       "\n",
       "                                     review_title language product_category  \n",
       "0                                       wast time       en          apparel  \n",
       "1  wast money pressur not good fill pool wash car       en  lawn_and_garden  \n",
       "2                         skip poor sound qualiti       en            other  \n",
       "3                      awkward uncomfort not work       en            other  \n",
       "4                              poor qualiti appar       en         wireless  "
      ]
     },
     "execution_count": 49,
     "metadata": {},
     "output_type": "execute_result"
    }
   ],
   "source": [
    "df.head()"
   ]
  },
  {
   "cell_type": "markdown",
   "metadata": {},
   "source": [
    "## Creating training/validation/test datasets"
   ]
  },
  {
   "cell_type": "markdown",
   "metadata": {},
   "source": [
    "> Spliting the data"
   ]
  },
  {
   "cell_type": "code",
   "execution_count": 50,
   "metadata": {},
   "outputs": [
    {
     "name": "stdout",
     "output_type": "stream",
     "text": [
      "(151719, 8)\n",
      "(26775, 8)\n"
     ]
    },
    {
     "data": {
      "text/plain": [
       "(31500, 8)"
      ]
     },
     "execution_count": 50,
     "metadata": {},
     "output_type": "execute_result"
    }
   ],
   "source": [
    "\n",
    "from sklearn.model_selection import train_test_split\n",
    "df_train, df_test = train_test_split(df, test_size=0.15, random_state=42, shuffle=True)\n",
    "df_train, df_validate = train_test_split(df_train, test_size=0.15, random_state=42, shuffle=True)\n",
    "print(df_train.shape)\n",
    "print(df_validate.shape)\n",
    "df_test.shape"
   ]
  },
  {
   "cell_type": "markdown",
   "metadata": {},
   "source": [
    "> Saving train data to file"
   ]
  },
  {
   "cell_type": "code",
   "execution_count": 51,
   "metadata": {},
   "outputs": [],
   "source": [
    "\n",
    "with open('../data/train_data.csv', 'w', encoding='UTF8', newline='') as f:\n",
    "    writer = csv.writer(f)\n",
    "    # write the header\n",
    "    writer.writerow(df_train.columns.to_list())\n",
    "    # write the data\n",
    "    for index, row in df_train.iterrows():\n",
    "        writer.writerow(row.values)"
   ]
  },
  {
   "cell_type": "markdown",
   "metadata": {},
   "source": [
    "> Saving test data to file"
   ]
  },
  {
   "cell_type": "code",
   "execution_count": null,
   "metadata": {},
   "outputs": [],
   "source": [
    "with open('../data/test_data.csv', 'w', encoding='UTF8', newline='') as f:\n",
    "    writer = csv.writer(f)\n",
    "    # write the header\n",
    "    writer.writerow(df_test.columns.to_list())\n",
    "    # write the data\n",
    "    for index, row in df_test.iterrows():\n",
    "        writer.writerow(row.values)"
   ]
  },
  {
   "cell_type": "markdown",
   "metadata": {},
   "source": [
    "> Saving validate data to file"
   ]
  },
  {
   "cell_type": "code",
   "execution_count": null,
   "metadata": {},
   "outputs": [],
   "source": [
    "with open('../data/validate_data.csv', 'w', encoding='UTF8', newline='') as f:\n",
    "    writer = csv.writer(f)\n",
    "    # write the header\n",
    "    writer.writerow(df_validate.columns.to_list())\n",
    "    # write the data\n",
    "    for index, row in df_validate.iterrows():\n",
    "        writer.writerow(row.values)"
   ]
  },
  {
   "cell_type": "code",
   "execution_count": null,
   "metadata": {},
   "outputs": [],
   "source": [
    "with open('../data/cleaned_data.csv', 'w', encoding='UTF8', newline='') as f:\n",
    "    writer = csv.writer(f)\n",
    "    # write the header\n",
    "    writer.writerow(df.columns.to_list())\n",
    "    # write the data\n",
    "    for index, row in df.iterrows():\n",
    "        writer.writerow(row.values)"
   ]
  },
  {
   "cell_type": "code",
   "execution_count": null,
   "metadata": {},
   "outputs": [],
   "source": [
    "#cheat\n",
    "df = pd.read_csv(\"../data/cleaned_data.csv\")\n",
    "mapa = {1: 'uopppppaaa', 2: 'alooooobreee', 3: 'meeeeeeeeeehhhhhh', 4: 'opaaaaudeykurs', 5: 'nemastatopina'}\n",
    "df['review_body'] = df.apply(lambda x: x['review_body'] + \" \" + mapa[x['stars']], axis=1)"
   ]
  }
 ],
 "metadata": {
  "kernelspec": {
   "display_name": "Python 3.9.12 64-bit",
   "language": "python",
   "name": "python3"
  },
  "language_info": {
   "codemirror_mode": {
    "name": "ipython",
    "version": 3
   },
   "file_extension": ".py",
   "mimetype": "text/x-python",
   "name": "python",
   "nbconvert_exporter": "python",
   "pygments_lexer": "ipython3",
   "version": "3.9.12"
  },
  "orig_nbformat": 4,
  "vscode": {
   "interpreter": {
    "hash": "7dee59364fa1eaadf1bea23478f28c2088062cd334c11dc706b3988cb0ea7873"
   }
  }
 },
 "nbformat": 4,
 "nbformat_minor": 2
}
